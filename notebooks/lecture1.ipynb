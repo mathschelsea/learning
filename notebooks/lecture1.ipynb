{
  "cells": [
    {
      "cell_type": "markdown",
      "metadata": {
        "id": "Kup5jz-1S36r"
      },
      "source": [
        "# Fast.ai Machine Learning - Course 1, Lesson 1"
      ]
    },
    {
      "cell_type": "markdown",
      "metadata": {
        "id": "zbRXBEM-S36r"
      },
      "source": [
        "## 0 - Imports"
      ]
    },
    {
      "cell_type": "code",
      "execution_count": null,
      "metadata": {
        "id": "JmU6BjjdS36s"
      },
      "outputs": [],
      "source": [
        "import pandas as pd\n",
        "import numpy as np\n",
        "import os\n",
        "from pandas.api.types import is_string_dtype, is_object_dtype"
      ]
    },
    {
      "cell_type": "code",
      "source": [
        "# determines whether to import from colab or vscode\n",
        "editor = 'colab'\n",
        "\n",
        "# repository location on Google Drive\n",
        "drive_path = '/content/gdrive/MyDrive/learning'"
      ],
      "metadata": {
        "id": "zYhJi24WV5Cb"
      },
      "execution_count": null,
      "outputs": []
    },
    {
      "cell_type": "markdown",
      "source": [
        "## 1 - VSCode Import"
      ],
      "metadata": {
        "id": "yQ3FVlgcS7fn"
      }
    },
    {
      "cell_type": "markdown",
      "metadata": {
        "id": "3YaeK1huS36s"
      },
      "source": [
        "The code below does the following:\n",
        "1. Installs Kaggle\n",
        "2. Creates a Kaggle folder in our home directory (it'll be hidden)\n",
        "3. Gets our API credentials from the Kaggle 'Settings' page\n",
        "4. Places the credentials (.json file) in the Kaggle folder from step 2\n",
        "5. Downloads the Kaggle dataset"
      ]
    },
    {
      "cell_type": "code",
      "source": [
        "if editor == 'vscode':\n",
        "  # change current working directory\n",
        "  os.chdir('..')\n",
        "  print(f'cwd: {os.getcwd()}')\n",
        "\n",
        "  # install Kaggle\n",
        "  !pip install -q kaggle\n",
        "\n",
        "  # create a kaggle directory\n",
        "  dir = os.path.expanduser('~/.kaggle')\n",
        "  os.makedirs(dir, exist_ok=True)\n",
        "\n",
        "  # copy credentials to kaggle folder\n",
        "  creds = '/Users/chelseatucker/credentials/kaggle.json'\n",
        "  !cp $creds ~/.kaggle\n",
        "\n",
        "  # change permissions so only I have read & write access to the credentials file\n",
        "  !chmod 600 ~/.kaggle/kaggle.json\n",
        "\n",
        "  # create a bulldozers directory\n",
        "  os.makedirs('data/bbfb', exist_ok=True)\n",
        "\n",
        "  # downloading the bulldozers dataset to the 'data' folder\n",
        "  !kaggle competitions download -c bluebook-for-bulldozers -p 'data/bbfb'\n",
        "\n",
        "  # unzip the data\n",
        "  !unzip -q data/bbfb/bluebook-for-bulldozers.zip -d 'data/bbfb'\n",
        "\n",
        "  # unzip train data\n",
        "  !unzip -q data/bbfb/Train.zip -d 'data/bbfb'"
      ],
      "metadata": {
        "id": "0kwukEUdWBOs"
      },
      "execution_count": null,
      "outputs": []
    },
    {
      "cell_type": "markdown",
      "source": [
        "## 2 - Colab Import"
      ],
      "metadata": {
        "id": "9zMF-vLPTLAb"
      }
    },
    {
      "cell_type": "markdown",
      "source": [
        "The first section of code mounts Google Drive and navigates to where the cloned repository sits. The second section downloads the data from Kaggle in a simialr way to that in the '1 - VSCode Import' section."
      ],
      "metadata": {
        "id": "q9xkAh9DlsTz"
      }
    },
    {
      "cell_type": "code",
      "source": [
        "# mount Google Drive\n",
        "from google.colab import drive\n",
        "drive.mount('/content/gdrive')\n",
        "\n",
        "# navigate to the repository\n",
        "%cd $drive_path"
      ],
      "metadata": {
        "id": "_oi6QxW0lLYE"
      },
      "execution_count": null,
      "outputs": []
    },
    {
      "cell_type": "code",
      "source": [
        "if editor == 'colab':\n",
        "\n",
        "  # install kaggle\n",
        "  !pip install -q kaggle\n",
        "\n",
        "  # upload the 'Kaggle.json' file\n",
        "  from google.colab import files\n",
        "  files.upload()\n",
        "\n",
        "  # make a kaggle directory and move the json file there\n",
        "  !mkdir ~/.kaggle\n",
        "  !mv kaggle.json ~/.kaggle\n",
        "\n",
        "  # change permissions so only I have read & write access to the credentials file\n",
        "  !chmod 600 ~/.kaggle/kaggle.json\n",
        "\n",
        "  # download dataset from Kaggle\n",
        "  !kaggle competitions download -c 'bluebook-for-bulldozers'\n",
        "\n",
        "  # move dataset\n",
        "  !mkdir data\n",
        "  !mv bluebook-for-bulldozers.zip data\n",
        "\n",
        "  # unzip bulldozers data\n",
        "  !unzip data/bluebook-for-bulldozers.zip -d data/bbfb\n",
        "\n",
        "  # unzip train data\n",
        "  !unzip data/bbfb/Train.zip -d data/bbfb"
      ],
      "metadata": {
        "id": "RLmWrupoWX7W"
      },
      "execution_count": null,
      "outputs": []
    },
    {
      "cell_type": "markdown",
      "metadata": {
        "id": "jZZyPYxaS36t"
      },
      "source": [
        "## 2 - Exploring the Data"
      ]
    },
    {
      "cell_type": "code",
      "execution_count": null,
      "metadata": {
        "id": "cYsN7KvpS36t"
      },
      "outputs": [],
      "source": [
        "df_raw = pd.read_csv('data/bbfb/Train.csv',\n",
        "                     low_memory=False,\n",
        "                     parse_dates=['saledate'])"
      ]
    },
    {
      "cell_type": "code",
      "execution_count": null,
      "metadata": {
        "id": "17L44oGMS36u"
      },
      "outputs": [],
      "source": [
        "pd.set_option('display.max_columns', None)\n",
        "pd.set_option('display.max_rows', None)\n",
        "\n",
        "# quick look to see if the data has imported correctly\n",
        "df_raw.head(3)"
      ]
    },
    {
      "cell_type": "code",
      "execution_count": null,
      "metadata": {
        "id": "LsRbcqyZS36u"
      },
      "outputs": [],
      "source": [
        "from src.eda import df_look\n",
        "\n",
        "# high level overview of the data\n",
        "df_look(df_raw)"
      ]
    },
    {
      "cell_type": "markdown",
      "metadata": {
        "id": "cNWrseGJS36u"
      },
      "source": [
        "## 3 - Feature Engineering"
      ]
    },
    {
      "cell_type": "markdown",
      "metadata": {
        "id": "4GEnPbYpS36u"
      },
      "source": [
        "### 3.1 - Data Edits"
      ]
    },
    {
      "cell_type": "markdown",
      "metadata": {
        "id": "WFmCbFKRS36u"
      },
      "source": [
        "The competiton wants us to use RMSLE as the measure between actuals and predictions so we'll take the log of the dependent variable."
      ]
    },
    {
      "cell_type": "code",
      "execution_count": null,
      "metadata": {
        "id": "j7XKcmxbS36u"
      },
      "outputs": [],
      "source": [
        "df_raw.SalePrice = np.log(df_raw.SalePrice)"
      ]
    },
    {
      "cell_type": "markdown",
      "metadata": {
        "id": "blPiP07iS36u"
      },
      "source": [
        "Individual edits:"
      ]
    },
    {
      "cell_type": "code",
      "execution_count": null,
      "metadata": {
        "id": "hzylWs_SS36u"
      },
      "outputs": [],
      "source": [
        "# looking at individual levels\n",
        "df_raw.Undercarriage_Pad_Width.value_counts(dropna=False).sort_index()"
      ]
    },
    {
      "cell_type": "code",
      "execution_count": null,
      "metadata": {
        "id": "fjb-FdJGS36u"
      },
      "outputs": [],
      "source": [
        "## edits\n",
        "# Blade Width\n",
        "df_raw.Blade_Width = df_raw.Blade_Width.str.replace(\"'\",\"\")\n",
        "df_raw.Blade_Width = df_raw.Blade_Width.str.replace(\"<12\",\"11\")\n",
        "df_raw.Blade_Width = df_raw.Blade_Width.str.replace('None or Unspecified', '-1')\n",
        "df_raw.Blade_Width.fillna('-2', inplace=True)\n",
        "df_raw.Blade_Width = df_raw.Blade_Width.astype(int)\n",
        "\n",
        "# Type Size\n",
        "df_raw['Tyre_Size'] = df_raw['Tire_Size']\n",
        "df_raw.Tyre_Size = df_raw.Tyre_Size.str.replace('\"','')\n",
        "df_raw.Tyre_Size = df_raw.Tyre_Size.str.replace(' inch','')\n",
        "df_raw.Tyre_Size = df_raw.Tyre_Size.str.replace('None or Unspecified', '-1')\n",
        "df_raw.Tyre_Size.fillna('-2', inplace=True)\n",
        "df_raw.Tyre_Size = df_raw.Tyre_Size.astype(float)\n",
        "df_raw.drop(['Tire_Size'], axis=1, inplace=True)\n",
        "\n",
        "# Undercarriage Pad Width\n",
        "df_raw.Undercarriage_Pad_Width = df_raw.Undercarriage_Pad_Width.str.replace(' inch', '')\n",
        "df_raw.Undercarriage_Pad_Width = df_raw.Undercarriage_Pad_Width.str.replace('None or Unspecified', '-1')\n",
        "df_raw.Undercarriage_Pad_Width.fillna('-2', inplace=True)\n",
        "df_raw.Undercarriage_Pad_Width = df_raw.Undercarriage_Pad_Width.astype(float)\n",
        "df_raw.Undercarriage_Pad_Width = df_raw.Undercarriage_Pad_Width.round(0)\n",
        "df_raw.Undercarriage_Pad_Width = df_raw.Undercarriage_Pad_Width.astype(int)\n",
        "\n",
        "# Stick_Length\n",
        "df_raw.Stick_Length = df_raw.Stick_Length.str.replace(\"' \", \".\")\n",
        "df_raw.Stick_Length = df_raw.Stick_Length.str.replace('\"', '')\n",
        "df_raw.Stick_Length = df_raw.Stick_Length.str.replace('None or Unspecified', '-1')\n",
        "df_raw.Stick_Length.fillna('-2', inplace=True)\n",
        "df_raw.Stick_Length = df_raw.Stick_Length.astype(float)"
      ]
    },
    {
      "cell_type": "markdown",
      "metadata": {
        "id": "S5aJrBmhS36v"
      },
      "source": [
        "### 3.x - Feature Creation"
      ]
    },
    {
      "cell_type": "markdown",
      "metadata": {
        "id": "rQ0X8lWrS36v"
      },
      "source": [
        "Extracting more information from date/time columns:"
      ]
    },
    {
      "cell_type": "code",
      "execution_count": null,
      "metadata": {
        "id": "UEeozUtCS36v"
      },
      "outputs": [],
      "source": [
        "from src.preprocessing import add_dateattr\n",
        "\n",
        "# extracting more information from the date field\n",
        "add_dateattr(df_raw, 'saledate')"
      ]
    },
    {
      "cell_type": "markdown",
      "metadata": {
        "id": "2uwzgR6DS36v"
      },
      "source": [
        "### 3.x - Categorical Features"
      ]
    },
    {
      "cell_type": "markdown",
      "metadata": {
        "id": "u7d1CNSpS36v"
      },
      "source": [
        "Converting string/object features to categorical features and then overwriting the categories with their respective codes"
      ]
    },
    {
      "cell_type": "code",
      "execution_count": null,
      "metadata": {
        "id": "-yZJIiiqS36v"
      },
      "outputs": [],
      "source": [
        "# list object/string columns\n",
        "cats = []\n",
        "for c in df_raw.columns:\n",
        "    if is_string_dtype(df_raw[c]) or is_object_dtype(df_raw[c]):\n",
        "        cats.append(c)\n",
        "\n",
        "cats"
      ]
    },
    {
      "cell_type": "code",
      "execution_count": null,
      "metadata": {
        "id": "XpWIjDMiS36v"
      },
      "outputs": [],
      "source": [
        "from src.preprocessing import conv_to_cat\n",
        "\n",
        "# converting all string/object columns to categories\n",
        "conv_to_cat(df_raw)"
      ]
    },
    {
      "cell_type": "code",
      "execution_count": null,
      "metadata": {
        "id": "leIpldUzS36v"
      },
      "outputs": [],
      "source": [
        "# checking category orders\n",
        "for c in cats:\n",
        "    print(c,':',df_raw[c].cat.categories)\n",
        "    print()"
      ]
    },
    {
      "cell_type": "code",
      "execution_count": null,
      "metadata": {
        "id": "kS4r_JueS36w"
      },
      "outputs": [],
      "source": [
        "# reordering categories\n",
        "df_raw.UsageBand = df_raw.UsageBand.cat.reorder_categories(['Low', 'Medium', 'High'], ordered=True)\n",
        "df_raw.ProductSize = df_raw.ProductSize.cat.reorder_categories(['Mini', 'Small', 'Compact', 'Medium', 'Large / Medium', 'Large'], ordered=True)\n",
        "df_raw.Drive_System = df_raw.Drive_System.cat.reorder_categories(['No', 'Two Wheel Drive', 'Four Wheel Drive', 'All Wheel Drive'], ordered=True)\n",
        "df_raw.Grouser_Type = df_raw.Grouser_Type.cat.reorder_categories(['Single', 'Double', 'Triple'], ordered=True)\n",
        "\n",
        "# checking after reordering\n",
        "df_raw.UsageBand.cat.categories"
      ]
    },
    {
      "cell_type": "code",
      "execution_count": null,
      "metadata": {
        "id": "VE6d0hR3S36w"
      },
      "outputs": [],
      "source": [
        "from src.preprocessing import numericalise\n",
        "\n",
        "# converting all categorical columns to their code equivalents\n",
        "for c in cats:\n",
        "    numericalise(df_raw, df_raw[c], f'{c}_codes', max_n_cat=100)"
      ]
    },
    {
      "cell_type": "code",
      "execution_count": null,
      "metadata": {
        "id": "bL0NtyK5S36w"
      },
      "outputs": [],
      "source": [
        "# checking code column\n",
        "print(df_raw.UsageBand.value_counts(dropna=False).sort_index())\n",
        "print(df_raw.UsageBand_codes.value_counts(dropna=False).sort_index())"
      ]
    },
    {
      "cell_type": "code",
      "execution_count": null,
      "metadata": {
        "id": "Vz6EKRrNS36w"
      },
      "outputs": [],
      "source": [
        "# checking non-numericalised categorical columns\n",
        "\n",
        "num = [col for col in df_raw.columns if '_codes' in col]"
      ]
    }
  ],
  "metadata": {
    "kernelspec": {
      "display_name": "Python 3",
      "language": "python",
      "name": "python3"
    },
    "language_info": {
      "codemirror_mode": {
        "name": "ipython",
        "version": 3
      },
      "file_extension": ".py",
      "mimetype": "text/x-python",
      "name": "python",
      "nbconvert_exporter": "python",
      "pygments_lexer": "ipython3",
      "version": "3.10.5"
    },
    "colab": {
      "provenance": []
    }
  },
  "nbformat": 4,
  "nbformat_minor": 0
}