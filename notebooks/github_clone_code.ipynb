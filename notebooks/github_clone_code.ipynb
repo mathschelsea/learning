{
  "nbformat": 4,
  "nbformat_minor": 0,
  "metadata": {
    "colab": {
      "provenance": [],
      "collapsed_sections": [
        "IWsUvX4eYAMv",
        "pSoCBrqPa03z",
        "Fb_3WqPxcBoZ"
      ],
      "authorship_tag": "ABX9TyNAFITWbtJmdjaKY3x30Bww"
    },
    "kernelspec": {
      "name": "python3",
      "display_name": "Python 3"
    },
    "language_info": {
      "name": "python"
    }
  },
  "cells": [
    {
      "cell_type": "markdown",
      "source": [
        "# Clone GitHub Repo to Google Drive"
      ],
      "metadata": {
        "id": "b15Pd0POXBZ0"
      }
    },
    {
      "cell_type": "markdown",
      "source": [
        ">If you are working with a deep learning project, the greatest bottleneck could be the lack of computational resources (e.g a GPU). But with Google Colaboratory (Google Colab or Colab in short), now you have the freedom to use a GPU at your disposal. Let’s see how you can clone your GitHub repository into the Google Drive and run your code on top of a GPU provided by Google Colab.\n",
        "\n",
        "The quote above quote can be found [here](https://medium.com/@ashwindesilva/how-to-use-google-colaboratory-to-clone-a-github-repository-e07cf8d3d22b). The code below is heavily based on this article."
      ],
      "metadata": {
        "id": "WPWduCd9XJU-"
      }
    },
    {
      "cell_type": "markdown",
      "source": [
        "### Step 1"
      ],
      "metadata": {
        "id": "IWsUvX4eYAMv"
      }
    },
    {
      "cell_type": "markdown",
      "source": [
        "Click on the button below to open this notebook in Google Colab."
      ],
      "metadata": {
        "id": "M_x6WeFh_8a1"
      }
    },
    {
      "cell_type": "code",
      "source": [
        "#TBC"
      ],
      "metadata": {
        "id": "ouWOqUTL_40A"
      },
      "execution_count": null,
      "outputs": []
    },
    {
      "cell_type": "markdown",
      "source": [
        "Save this notebook on your Google Drive. Where you save it is where the GitHub repository will be cloned to."
      ],
      "metadata": {
        "id": "_nQm6NKZazal"
      }
    },
    {
      "cell_type": "markdown",
      "source": [
        "### Step 2"
      ],
      "metadata": {
        "id": "pSoCBrqPa03z"
      }
    },
    {
      "cell_type": "markdown",
      "source": [
        "Mount Google Drive in the current notebook's runtime and navigate to the folder where this notebook is using the below code:"
      ],
      "metadata": {
        "id": "WcRJJXppadjs"
      }
    },
    {
      "cell_type": "code",
      "execution_count": null,
      "metadata": {
        "id": "DkpWbfk9hG7V"
      },
      "outputs": [],
      "source": [
        "# mount Google Drive\n",
        "from google.colab import drive\n",
        "drive.mount('/content/gdrive')"
      ]
    },
    {
      "cell_type": "code",
      "source": [
        "# location of this notebook (EDIT AS REQUIRED)\n",
        "nb_loc = 'gdrive/My Drive'\n",
        "\n",
        "# navigate to the folder where this notebook is on Google Drive\n",
        "%cd $nb_loc"
      ],
      "metadata": {
        "id": "egNQ2YIHhIQO"
      },
      "execution_count": null,
      "outputs": []
    },
    {
      "cell_type": "markdown",
      "source": [
        "### Step 3"
      ],
      "metadata": {
        "id": "Fb_3WqPxcBoZ"
      }
    },
    {
      "cell_type": "markdown",
      "source": [
        "Clone the intended GitHub repository using the code below:"
      ],
      "metadata": {
        "id": "5o_SdlapcDFB"
      }
    },
    {
      "cell_type": "code",
      "source": [
        "# GitHub repository and branch (EDIT AS REQUIRED)\n",
        "branch = 'feature/colab_integration'\n",
        "repo = 'https://github.com/mathschelsea/learning'\n",
        "\n",
        "# clone GitHub repo\n",
        "!git clone -b $branch $repo"
      ],
      "metadata": {
        "id": "tFPfaFTAhQjk"
      },
      "execution_count": null,
      "outputs": []
    }
  ]
}