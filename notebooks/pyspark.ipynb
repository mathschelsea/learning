{
  "nbformat": 4,
  "nbformat_minor": 0,
  "metadata": {
    "colab": {
      "provenance": [],
      "authorship_tag": "ABX9TyNxkxsyoLDVeSTVoLLMJvGP"
    },
    "kernelspec": {
      "name": "python3",
      "display_name": "Python 3"
    },
    "language_info": {
      "name": "python"
    }
  },
  "cells": [
    {
      "cell_type": "markdown",
      "source": [
        "# Spark on Colab\n",
        "\n",
        "⚡️ Apache Spark is a powerful distributed computing framework designed for processing large-scale data efficiently. It offers a wide range of functionalities for data manipulation and machine learning. As a Data Scientist, learning Spark can help you handle massive datasets and perform complex analyses with ease.\n",
        "\n",
        "☁️ On the other hand, Google Colab provides a convenient and free platform for running Python code, particularly suited for those not interested in local installation or powerful hardware (i.e. beginners). It's a hosted Jupyter Notebook service, inheriting all the pros of Jupyter, such as interactivity, visualizations, and documentation capabilities.\n",
        "\n",
        "🤝 Combining Spark with Google Colab can enhance your data science projects by leveraging Spark's scalability and Colab's user-friendly interface.\n",
        "\n",
        "\n",
        "\n"
      ],
      "metadata": {
        "id": "YRBjv4B3xBtw"
      }
    },
    {
      "cell_type": "markdown",
      "source": [
        "## Installing Spark\n",
        "\n"
      ],
      "metadata": {
        "id": "7UeLzwmZRwUK"
      }
    },
    {
      "cell_type": "markdown",
      "source": [
        "There are a number of ways to download Spark, the easiest way is to install `pyspark` and then use the `findspark` library which is necessary for loading Spark. Note, `pyspark` is the Python API for Apache Spark."
      ],
      "metadata": {
        "id": "6GaBqsNiwbOR"
      }
    },
    {
      "cell_type": "code",
      "source": [
        "!pip install pyspark --quiet\n",
        "!pip install findspark --quiet\n",
        "!pip install pyngrok --quiet"
      ],
      "metadata": {
        "id": "3spM7S85t6Fc"
      },
      "execution_count": 1,
      "outputs": []
    },
    {
      "cell_type": "code",
      "source": [
        "import findspark\n",
        "findspark.init()\n",
        "\n",
        "from pyspark.sql import SparkSession\n",
        "spark = SparkSession.builder \\\n",
        "        .master('local[3]') \\\n",
        "        .appName('ColabSession') \\\n",
        "        .getOrCreate()"
      ],
      "metadata": {
        "id": "QgkyWUpvt9_Y"
      },
      "execution_count": 2,
      "outputs": []
    },
    {
      "cell_type": "markdown",
      "source": [
        "Apache Spark provides a suite of web user interfaces (UIs) that you can use to monitor the status and resource consumption of your Spark cluster. Because we're using Colab, our Spark UI resides on Colab's local host. In order to make this available to us we the need the help of `ngrok`. This platform creates a secure tunnel to locally hosted applications using a reverse proxy. You don't need to complete this step but it's free and quite interesting."
      ],
      "metadata": {
        "id": "7k7KheNuy5Mf"
      }
    },
    {
      "cell_type": "code",
      "source": [
        "from pyngrok import ngrok, conf\n",
        "import getpass\n",
        "\n",
        "print('Enter your authtoken, which can be copied from https://dashboard.ngrok.com/get-started/your-authtoken')\n",
        "conf.get_default().auth_token = getpass.getpass()\n",
        "\n",
        "ui_port = 4040\n",
        "public_url = ngrok.connect(ui_port).public_url\n",
        "print(f'Spark UI URL (ngrok tunnel) {public_url}')"
      ],
      "metadata": {
        "id": "AqRb8ZO6uBjD"
      },
      "execution_count": null,
      "outputs": []
    },
    {
      "cell_type": "markdown",
      "source": [
        "## Data Exploration"
      ],
      "metadata": {
        "id": "-bsEne5E2h1o"
      }
    },
    {
      "cell_type": "markdown",
      "source": [
        "We'll download a Plotly dataset to play around with."
      ],
      "metadata": {
        "id": "AarPiZzr2_BY"
      }
    },
    {
      "cell_type": "code",
      "source": [
        "# Downloading the oil and gas dataset\n",
        "!wget https://raw.githubusercontent.com/plotly/datasets/master/oil-and-gas.parquet --quiet"
      ],
      "metadata": {
        "id": "CNNlJKg0v_DL"
      },
      "execution_count": 4,
      "outputs": []
    },
    {
      "cell_type": "code",
      "source": [
        "# Reading in the dataset\n",
        "df = spark.read.parquet('oil-and-gas.parquet')"
      ],
      "metadata": {
        "id": "BT6BpGzPr1Ko"
      },
      "execution_count": 5,
      "outputs": []
    },
    {
      "cell_type": "code",
      "source": [
        "# Taking a look at the dataset\n",
        "df.show(5)"
      ],
      "metadata": {
        "colab": {
          "base_uri": "https://localhost:8080/"
        },
        "id": "aprRDNaCZdoI",
        "outputId": "d809bea5-5d1d-4f38-b33c-12ad01d65c46"
      },
      "execution_count": 6,
      "outputs": [
        {
          "output_type": "stream",
          "name": "stdout",
          "text": [
            "+--------------+-----------------+-------------------+-----------------+------------------+----------------+-------------------+---------------+-------------------+--------------------+-----------------+\n",
            "|Reporting Year|Gas Produced, MCF|Water Produced, bbl|Oil Produced, bbl| Surface Longitude|Surface Latitude|          Well Name|      Well Type|Date Well Completed|         Well Status|__index_level_0__|\n",
            "+--------------+-----------------+-------------------+-----------------+------------------+----------------+-------------------+---------------+-------------------+--------------------+-----------------+\n",
            "|          2003|              0.0|                0.0|              0.0|         -78.01117|         42.0834|Vossler Katherine 1|    Gas Wildcat|1944-04-25 00:00:00|Plugged and Aband...|                0|\n",
            "|          2001|              0.0|                0.0|              0.0|         -78.01117|         42.0834|Vossler Katherine 1|    Gas Wildcat|1944-04-25 00:00:00|Plugged and Aband...|                1|\n",
            "|          2004|              0.0|                0.0|              0.0|         -78.01117|         42.0834|Vossler Katherine 1|    Gas Wildcat|1944-04-25 00:00:00|Plugged and Aband...|                2|\n",
            "|          1999|            260.0|                0.0|              0.0|-78.14544999999998|        42.11943|        Gilbert A 1|Gas Development|1928-09-11 00:00:00| Not Reported on AWR|                3|\n",
            "|          2000|            192.0|                0.0|              0.0|-78.14544999999998|        42.11943|        Gilbert A 1|Gas Development|1928-09-11 00:00:00| Not Reported on AWR|                4|\n",
            "+--------------+-----------------+-------------------+-----------------+------------------+----------------+-------------------+---------------+-------------------+--------------------+-----------------+\n",
            "only showing top 5 rows\n",
            "\n"
          ]
        }
      ]
    },
    {
      "cell_type": "code",
      "source": [
        "# Learning about the dataset\n",
        "print(f'Number of rows: {df.count()}')\n",
        "print(f'Number of columns: {len(df.columns)}')\n",
        "print('')\n",
        "print('Column name, type:')\n",
        "for i in range(0, len(df.columns)):\n",
        "  print(' ', f'{df.columns[i]}', ', ', f'{df.dtypes[i][1]}')"
      ],
      "metadata": {
        "colab": {
          "base_uri": "https://localhost:8080/"
        },
        "id": "PoO54apvtqu3",
        "outputId": "295a7f42-4be5-499b-97b6-464cd7af7048"
      },
      "execution_count": 7,
      "outputs": [
        {
          "output_type": "stream",
          "name": "stdout",
          "text": [
            "Number of rows: 260374\n",
            "Number of columns: 11\n",
            "\n",
            "Column name, type:\n",
            "  Reporting Year ,  bigint\n",
            "  Gas Produced, MCF ,  double\n",
            "  Water Produced, bbl ,  double\n",
            "  Oil Produced, bbl ,  double\n",
            "  Surface Longitude ,  double\n",
            "  Surface Latitude ,  double\n",
            "  Well Name ,  string\n",
            "  Well Type ,  string\n",
            "  Date Well Completed ,  timestamp_ntz\n",
            "  Well Status ,  string\n",
            "  __index_level_0__ ,  bigint\n"
          ]
        }
      ]
    },
    {
      "cell_type": "code",
      "source": [
        "# Learning about the columns\n",
        "print('Column name, no. unique levels:')\n",
        "for i in df.columns:\n",
        "  print(' ', i, ', ', df.select(i).distinct().count())"
      ],
      "metadata": {
        "colab": {
          "base_uri": "https://localhost:8080/"
        },
        "id": "UxfGVH5E3WYz",
        "outputId": "ee4ced59-28f9-4818-d508-59fd1e12a921"
      },
      "execution_count": 8,
      "outputs": [
        {
          "output_type": "stream",
          "name": "stdout",
          "text": [
            "Column name, no. unique levels:\n",
            "  Reporting Year ,  31\n",
            "  Gas Produced, MCF ,  16828\n",
            "  Water Produced, bbl ,  1730\n",
            "  Oil Produced, bbl ,  910\n",
            "  Surface Longitude ,  13469\n",
            "  Surface Latitude ,  11930\n",
            "  Well Name ,  14228\n",
            "  Well Type ,  17\n",
            "  Date Well Completed ,  8125\n",
            "  Well Status ,  15\n",
            "  __index_level_0__ ,  260374\n"
          ]
        }
      ]
    },
    {
      "cell_type": "code",
      "source": [
        "# Learning about missing data\n",
        "from pyspark.sql.functions import col, sum\n",
        "\n",
        "total_rows = df.count()\n",
        "missing_counts = df.select([col(column).isNull().cast('int').alias(column) for column in df.columns])\n",
        "\n",
        "print('Column name, no. missing entries:')\n",
        "for i in df.columns:\n",
        "  missing_sum = missing_counts.agg(sum(i)).collect()[0][0]\n",
        "  print(' ', i, ', ', missing_sum)"
      ],
      "metadata": {
        "colab": {
          "base_uri": "https://localhost:8080/"
        },
        "id": "fBdM0sgK4qqb",
        "outputId": "89657805-8189-476f-cdec-747ccf035d28"
      },
      "execution_count": 9,
      "outputs": [
        {
          "output_type": "stream",
          "name": "stdout",
          "text": [
            "Column name, no. missing entries:\n",
            "  Reporting Year ,  0\n",
            "  Gas Produced, MCF ,  0\n",
            "  Water Produced, bbl ,  0\n",
            "  Oil Produced, bbl ,  0\n",
            "  Surface Longitude ,  0\n",
            "  Surface Latitude ,  0\n",
            "  Well Name ,  0\n",
            "  Well Type ,  0\n",
            "  Date Well Completed ,  0\n",
            "  Well Status ,  0\n",
            "  __index_level_0__ ,  0\n"
          ]
        }
      ]
    },
    {
      "cell_type": "code",
      "source": [
        "# Learning about columns levels\n",
        "df.groupBy('Well Type').count().orderBy(col('count').desc()).show()"
      ],
      "metadata": {
        "colab": {
          "base_uri": "https://localhost:8080/"
        },
        "id": "nlQR1esw8DmJ",
        "outputId": "857dc580-c56c-4915-c364-ae6cf92cc117"
      },
      "execution_count": 10,
      "outputs": [
        {
          "output_type": "stream",
          "name": "stdout",
          "text": [
            "+--------------------+------+\n",
            "|           Well Type| count|\n",
            "+--------------------+------+\n",
            "|     Gas Development|186942|\n",
            "|     Oil Development| 52142|\n",
            "|         Gas Wildcat|  7376|\n",
            "|       Gas Extension|  5737|\n",
            "|       Oil Injection|  4707|\n",
            "|         Oil Wildcat|  1288|\n",
            "|         Dry Wildcat|   879|\n",
            "|            Dry Hole|   511|\n",
            "|  Monitoring Storage|   308|\n",
            "|             Storage|   153|\n",
            "|          Not Listed|    90|\n",
            "|       Oil Extension|    82|\n",
            "|            Disposal|    58|\n",
            "|       Stratigraphic|    56|\n",
            "|          Geothermal|    24|\n",
            "|Monitoring Miscel...|    11|\n",
            "|               Brine|    10|\n",
            "+--------------------+------+\n",
            "\n"
          ]
        }
      ]
    },
    {
      "cell_type": "code",
      "source": [
        "# Learning about columns levels\n",
        "from pyspark.sql.functions import min, max\n",
        "\n",
        "print(f\"Earliest Well completion in dataset: {df.agg(min('Date Well Completed')).collect()[0][0]}\")\n",
        "print(f\"Latest Well completion in dataset: {df.agg(max('Date Well Completed')).collect()[0][0]}\")"
      ],
      "metadata": {
        "colab": {
          "base_uri": "https://localhost:8080/"
        },
        "id": "d7FXSAS681WI",
        "outputId": "225f4874-c049-432d-8a90-f9967f54e19a"
      },
      "execution_count": 11,
      "outputs": [
        {
          "output_type": "stream",
          "name": "stdout",
          "text": [
            "Earliest Well completion in dataset: 1881-08-01 00:00:00\n",
            "Latest Well completion in dataset: 2016-06-07 00:00:00\n"
          ]
        }
      ]
    },
    {
      "cell_type": "markdown",
      "source": [
        "## Data Editing"
      ],
      "metadata": {
        "id": "JL_i-mziRjQL"
      }
    },
    {
      "cell_type": "code",
      "source": [
        "# Filtering the dataset\n",
        "s_date = '1960-01-01 00:00:00'\n",
        "e_date = '2011-01-01 00:00:00'\n",
        "df_filt = df[(df['Date Well Completed'] >= s_date) & (df['Date Well Completed'] < e_date)]\n",
        "\n",
        "# Check\n",
        "print(f\"Earliest Well completion in dataset: {df_filt.agg(min('Date Well Completed')).collect()[0][0]}\")\n",
        "print(f\"Latest Well completion in dataset: {df_filt.agg(max('Date Well Completed')).collect()[0][0]}\")"
      ],
      "metadata": {
        "colab": {
          "base_uri": "https://localhost:8080/"
        },
        "id": "Y5zEmDir8_z3",
        "outputId": "b3f1d3e0-0be6-48e7-850e-d77d6067397b"
      },
      "execution_count": 12,
      "outputs": [
        {
          "output_type": "stream",
          "name": "stdout",
          "text": [
            "Earliest Well completion in dataset: 1960-01-01 00:00:00\n",
            "Latest Well completion in dataset: 2010-12-30 00:00:00\n"
          ]
        }
      ]
    },
    {
      "cell_type": "code",
      "source": [
        "# Dropping columns and duplicates\n",
        "df_drp = df.drop('__index_level_0__')\n",
        "df_dupdrop = df_drp.dropDuplicates()\n",
        "print(f'Number of rows after drop: {df_dupdrop.count()}')\n",
        "print(f'Number of columns after drop: {len(df_dupdrop.columns)}')"
      ],
      "metadata": {
        "colab": {
          "base_uri": "https://localhost:8080/"
        },
        "id": "N5QbnuoGZ1Kl",
        "outputId": "8a59c94f-70df-4e84-beab-3dc2736ababc"
      },
      "execution_count": 13,
      "outputs": [
        {
          "output_type": "stream",
          "name": "stdout",
          "text": [
            "Number of rows after drop: 260372\n",
            "Number of columns after drop: 10\n"
          ]
        }
      ]
    },
    {
      "cell_type": "code",
      "source": [
        "# Extracting month and years from datatime column\n",
        "from pyspark.sql.functions import month, year\n",
        "\n",
        "df_date = df.withColumn('Well Completion Month', month(col('Date Well Completed'))) \\\n",
        "            .withColumn('Well Completion Year', year(col('Date Well Completed')))\n",
        "\n",
        "df_date.select('Date Well Completed', 'Well Completion Month', 'Well Completion Year').show(5)"
      ],
      "metadata": {
        "colab": {
          "base_uri": "https://localhost:8080/"
        },
        "id": "pUD3HTuTTAsa",
        "outputId": "4f6ded1c-c339-42de-da2d-47a4cbe57536"
      },
      "execution_count": 14,
      "outputs": [
        {
          "output_type": "stream",
          "name": "stdout",
          "text": [
            "+-------------------+---------------------+--------------------+\n",
            "|Date Well Completed|Well Completion Month|Well Completion Year|\n",
            "+-------------------+---------------------+--------------------+\n",
            "|1944-04-25 00:00:00|                    4|                1944|\n",
            "|1944-04-25 00:00:00|                    4|                1944|\n",
            "|1944-04-25 00:00:00|                    4|                1944|\n",
            "|1928-09-11 00:00:00|                    9|                1928|\n",
            "|1928-09-11 00:00:00|                    9|                1928|\n",
            "+-------------------+---------------------+--------------------+\n",
            "only showing top 5 rows\n",
            "\n"
          ]
        }
      ]
    },
    {
      "cell_type": "code",
      "source": [
        "# Creating groupby information\n",
        "df_gb = df.groupBy('Well Type').sum('Gas Produced, MCF', 'Oil Produced, bbl', 'Water Produced, bbl') \\\n",
        "                                .withColumnRenamed('sum(Gas Produced, MCF)', 'Total Gas Produced, MCF') \\\n",
        "                                .withColumnRenamed('sum(Oil Produced, bbl)', 'Total Oil Produced, bbl') \\\n",
        "                                .withColumnRenamed('sum(Water Produced, bbl)', 'Total Water Produced, bbl')\n",
        "\n",
        "df_gb.show()"
      ],
      "metadata": {
        "colab": {
          "base_uri": "https://localhost:8080/"
        },
        "id": "_XlCCnMdUaY6",
        "outputId": "ae89af09-a667-4d4d-cf57-c641d5dd0ad7"
      },
      "execution_count": 15,
      "outputs": [
        {
          "output_type": "stream",
          "name": "stdout",
          "text": [
            "+--------------------+-----------------------+-----------------------+-------------------------+\n",
            "|           Well Type|Total Gas Produced, MCF|Total Oil Produced, bbl|Total Water Produced, bbl|\n",
            "+--------------------+-----------------------+-----------------------+-------------------------+\n",
            "|          Not Listed|               161574.0|                   94.0|                    145.0|\n",
            "|         Oil Wildcat|              1319890.6|     101150.23999999999|                 205198.0|\n",
            "|       Gas Extension|         2.0435561175E8|                    1.0|                 668694.1|\n",
            "|               Brine|                    0.0|                    0.0|                      0.0|\n",
            "|       Stratigraphic|                    0.0|                    0.0|                      0.0|\n",
            "|  Monitoring Storage|            1.4969839E7|                    0.0|                   4126.0|\n",
            "|         Dry Wildcat|              2916556.0|                    0.0|                 340052.0|\n",
            "|            Disposal|                26668.0|                    0.0|                  45636.0|\n",
            "|          Geothermal|                51613.0|                    0.0|                      0.0|\n",
            "|            Dry Hole|               241596.0|                  116.0|                  10689.0|\n",
            "|Monitoring Miscel...|                    0.0|                    0.0|                      0.0|\n",
            "|       Oil Extension|                    1.0|                  751.0|                    157.0|\n",
            "|         Gas Wildcat|         1.7526392247E8|                5664.82|                1255485.7|\n",
            "|             Storage|              8216877.0|                    0.0|                 104922.0|\n",
            "|     Oil Development|      9691254.999999981|      3826047.070000003|                3639727.5|\n",
            "|       Oil Injection|                23865.0|                11693.0|                4036497.0|\n",
            "|     Gas Development|   4.7149294685475194E8|                50235.0|        6775843.550000001|\n",
            "+--------------------+-----------------------+-----------------------+-------------------------+\n",
            "\n"
          ]
        }
      ]
    },
    {
      "cell_type": "code",
      "source": [
        "# Formatting numberical entries\n",
        "from pyspark.sql.functions import format_number\n",
        "\n",
        "df_format = df_gb.withColumn('Total Gas Produced, MCF', format_number('Total Gas Produced, MCF', 0)) \\\n",
        "                  .withColumn('Total Oil Produced, bbl', format_number('Total Oil Produced, bbl', 0)) \\\n",
        "                  .withColumn('Total Water Produced, bbl', format_number('Total Water Produced, bbl', 0))\n",
        "\n",
        "df_format.show()"
      ],
      "metadata": {
        "colab": {
          "base_uri": "https://localhost:8080/"
        },
        "id": "LvXsTXPfWgVq",
        "outputId": "3955c5cb-7b8f-4da1-b0da-41dfb505adfd"
      },
      "execution_count": 16,
      "outputs": [
        {
          "output_type": "stream",
          "name": "stdout",
          "text": [
            "+--------------------+-----------------------+-----------------------+-------------------------+\n",
            "|           Well Type|Total Gas Produced, MCF|Total Oil Produced, bbl|Total Water Produced, bbl|\n",
            "+--------------------+-----------------------+-----------------------+-------------------------+\n",
            "|          Not Listed|                161,574|                     94|                      145|\n",
            "|         Oil Wildcat|              1,319,891|                101,150|                  205,198|\n",
            "|       Gas Extension|            204,355,612|                      1|                  668,694|\n",
            "|               Brine|                      0|                      0|                        0|\n",
            "|       Stratigraphic|                      0|                      0|                        0|\n",
            "|  Monitoring Storage|             14,969,839|                      0|                    4,126|\n",
            "|         Dry Wildcat|              2,916,556|                      0|                  340,052|\n",
            "|            Disposal|                 26,668|                      0|                   45,636|\n",
            "|          Geothermal|                 51,613|                      0|                        0|\n",
            "|            Dry Hole|                241,596|                    116|                   10,689|\n",
            "|Monitoring Miscel...|                      0|                      0|                        0|\n",
            "|       Oil Extension|                      1|                    751|                      157|\n",
            "|         Gas Wildcat|            175,263,922|                  5,665|                1,255,486|\n",
            "|             Storage|              8,216,877|                      0|                  104,922|\n",
            "|     Oil Development|              9,691,255|              3,826,047|                3,639,728|\n",
            "|       Oil Injection|                 23,865|                 11,693|                4,036,497|\n",
            "|     Gas Development|            471,492,947|                 50,235|                6,775,844|\n",
            "+--------------------+-----------------------+-----------------------+-------------------------+\n",
            "\n"
          ]
        }
      ]
    },
    {
      "cell_type": "code",
      "source": [
        "# Creating columns based on other columns\n",
        "from pyspark.sql.functions import when\n",
        "\n",
        "df_new = df_format.withColumn(f'Total Gas Produced, MCF (edited)', when(col('Well Type') == 'Oil Extension', 0)\n",
        "                                                                    .otherwise(col('Total Gas Produced, MCF')))\n",
        "df_new.show()"
      ],
      "metadata": {
        "colab": {
          "base_uri": "https://localhost:8080/"
        },
        "id": "BQ0uV-MPauaH",
        "outputId": "6cc2912f-b81f-4189-942c-ba93183ac08c"
      },
      "execution_count": 17,
      "outputs": [
        {
          "output_type": "stream",
          "name": "stdout",
          "text": [
            "+--------------------+-----------------------+-----------------------+-------------------------+--------------------------------+\n",
            "|           Well Type|Total Gas Produced, MCF|Total Oil Produced, bbl|Total Water Produced, bbl|Total Gas Produced, MCF (edited)|\n",
            "+--------------------+-----------------------+-----------------------+-------------------------+--------------------------------+\n",
            "|          Not Listed|                161,574|                     94|                      145|                         161,574|\n",
            "|         Oil Wildcat|              1,319,891|                101,150|                  205,198|                       1,319,891|\n",
            "|       Gas Extension|            204,355,612|                      1|                  668,694|                     204,355,612|\n",
            "|               Brine|                      0|                      0|                        0|                               0|\n",
            "|       Stratigraphic|                      0|                      0|                        0|                               0|\n",
            "|  Monitoring Storage|             14,969,839|                      0|                    4,126|                      14,969,839|\n",
            "|         Dry Wildcat|              2,916,556|                      0|                  340,052|                       2,916,556|\n",
            "|            Disposal|                 26,668|                      0|                   45,636|                          26,668|\n",
            "|          Geothermal|                 51,613|                      0|                        0|                          51,613|\n",
            "|            Dry Hole|                241,596|                    116|                   10,689|                         241,596|\n",
            "|Monitoring Miscel...|                      0|                      0|                        0|                               0|\n",
            "|       Oil Extension|                      1|                    751|                      157|                               0|\n",
            "|         Gas Wildcat|            175,263,922|                  5,665|                1,255,486|                     175,263,922|\n",
            "|             Storage|              8,216,877|                      0|                  104,922|                       8,216,877|\n",
            "|     Oil Development|              9,691,255|              3,826,047|                3,639,728|                       9,691,255|\n",
            "|       Oil Injection|                 23,865|                 11,693|                4,036,497|                          23,865|\n",
            "|     Gas Development|            471,492,947|                 50,235|                6,775,844|                     471,492,947|\n",
            "+--------------------+-----------------------+-----------------------+-------------------------+--------------------------------+\n",
            "\n"
          ]
        }
      ]
    },
    {
      "cell_type": "code",
      "source": [
        "from pyspark.sql.functions import avg\n",
        "\n",
        "df.agg(max('Gas Produced, MCF')).collect()[0][0]"
      ],
      "metadata": {
        "colab": {
          "base_uri": "https://localhost:8080/"
        },
        "id": "kOift14Fd8VA",
        "outputId": "181d250c-6be1-43d5-f4b9-87413678fcf4"
      },
      "execution_count": 18,
      "outputs": [
        {
          "output_type": "execute_result",
          "data": {
            "text/plain": [
              "6474551.0"
            ]
          },
          "metadata": {},
          "execution_count": 18
        }
      ]
    },
    {
      "cell_type": "code",
      "source": [
        "# Banding Columns\n",
        "from pyspark.sql.functions import lit, create_map\n",
        "from pyspark.ml.feature import Bucketizer\n",
        "from itertools import chain\n",
        "\n",
        "boundaries = [float('-inf'), 1000, 10000, 100000, 1000000, float('inf')]\n",
        "labels = {0.0: 'tiny', 1.0: 'small', 2.0: 'medium', 3.0: 'large', 4.0: 'massive'}\n",
        "\n",
        "bucketiser = Bucketizer(splits=boundaries, inputCol = 'Gas Produced, MCF', outputCol = 'Binned Gas Produced, MCF')\n",
        "df_bin = bucketiser.transform(df)\n",
        "\n",
        "mapping = create_map([lit(x) for x in chain(*labels.items())])\n",
        "df_lbl = df_bin.withColumn('Banded Gas Produced, MCF', mapping.getItem(col('Binned Gas Produced, MCF')))\n",
        "df_lbl = df_lbl.drop('Binned Gas Produced, MCF')\n",
        "\n",
        "df_lbl.groupBy('Banded Gas Produced, MCF').min('Gas Produced, MCF').orderBy('min(Gas Produced, MCF)').show()\n",
        "df_lbl.groupBy('Banded Gas Produced, MCF').max('Gas Produced, MCF').orderBy('max(Gas Produced, MCF)').show()\n",
        "df_lbl.groupBy('Banded Gas Produced, MCF').count().show()"
      ],
      "metadata": {
        "colab": {
          "base_uri": "https://localhost:8080/"
        },
        "id": "KZmGewAadCag",
        "outputId": "60218302-88a4-43a0-c478-6bb910de36cc"
      },
      "execution_count": 19,
      "outputs": [
        {
          "output_type": "stream",
          "name": "stderr",
          "text": [
            "/usr/local/lib/python3.10/dist-packages/pyspark/sql/column.py:460: FutureWarning: A column as 'key' in getItem is deprecated as of Spark 3.0, and will not be supported in the future release. Use `column[key]` or `column.key` syntax instead.\n",
            "  warnings.warn(\n"
          ]
        },
        {
          "output_type": "stream",
          "name": "stdout",
          "text": [
            "+------------------------+----------------------+\n",
            "|Banded Gas Produced, MCF|min(Gas Produced, MCF)|\n",
            "+------------------------+----------------------+\n",
            "|                    tiny|                   0.0|\n",
            "|                   small|                1000.0|\n",
            "|                  medium|               10000.0|\n",
            "|                   large|              100054.0|\n",
            "|                 massive|             1004548.0|\n",
            "+------------------------+----------------------+\n",
            "\n",
            "+------------------------+----------------------+\n",
            "|Banded Gas Produced, MCF|max(Gas Produced, MCF)|\n",
            "+------------------------+----------------------+\n",
            "|                    tiny|                 999.0|\n",
            "|                   small|                9997.0|\n",
            "|                  medium|               99816.0|\n",
            "|                   large|              999670.0|\n",
            "|                 massive|             6474551.0|\n",
            "+------------------------+----------------------+\n",
            "\n",
            "+------------------------+------+\n",
            "|Banded Gas Produced, MCF| count|\n",
            "+------------------------+------+\n",
            "|                    tiny|150287|\n",
            "|                  medium|  7733|\n",
            "|                   small|101577|\n",
            "|                   large|   693|\n",
            "|                 massive|    84|\n",
            "+------------------------+------+\n",
            "\n"
          ]
        }
      ]
    },
    {
      "cell_type": "code",
      "source": [
        "# Adding a random column\n",
        "from pyspark.sql.functions import rand\n",
        "from pyspark.sql.types import DoubleType\n",
        "\n",
        "bins = 5\n",
        "df_rnd = df.withColumn('rand', rand())\n",
        "df_rnd = df_rnd.withColumn('rand_col', (col('rand')*bins).cast(DoubleType()).cast('int'))\n",
        "df_rnd = df_rnd.drop('rand')\n",
        "\n",
        "df_rnd.groupBy('rand_col').count().orderBy('rand_col').show()"
      ],
      "metadata": {
        "colab": {
          "base_uri": "https://localhost:8080/"
        },
        "id": "naZpJ1mUdEZ7",
        "outputId": "4d48a56c-6868-47d5-fd13-064fb7e5692e"
      },
      "execution_count": 20,
      "outputs": [
        {
          "output_type": "stream",
          "name": "stdout",
          "text": [
            "+--------+-----+\n",
            "|rand_col|count|\n",
            "+--------+-----+\n",
            "|       0|51781|\n",
            "|       1|52384|\n",
            "|       2|52231|\n",
            "|       3|51918|\n",
            "|       4|52060|\n",
            "+--------+-----+\n",
            "\n"
          ]
        }
      ]
    },
    {
      "cell_type": "code",
      "source": [
        "# Joining data\n",
        "df_join = df.join(df_new.select('Well Type', 'Total Gas Produced, MCF'), on='Well Type', how='left')\n",
        "df_join.show()"
      ],
      "metadata": {
        "colab": {
          "base_uri": "https://localhost:8080/"
        },
        "id": "xdFO5j9FjErL",
        "outputId": "49dcf251-d3e9-4bdb-814b-e3446028b5b5"
      },
      "execution_count": 21,
      "outputs": [
        {
          "output_type": "stream",
          "name": "stdout",
          "text": [
            "+---------------+--------------+-----------------+-------------------+-----------------+------------------+----------------+-------------------+-------------------+--------------------+-----------------+-----------------------+\n",
            "|      Well Type|Reporting Year|Gas Produced, MCF|Water Produced, bbl|Oil Produced, bbl| Surface Longitude|Surface Latitude|          Well Name|Date Well Completed|         Well Status|__index_level_0__|Total Gas Produced, MCF|\n",
            "+---------------+--------------+-----------------+-------------------+-----------------+------------------+----------------+-------------------+-------------------+--------------------+-----------------+-----------------------+\n",
            "|    Gas Wildcat|          2003|              0.0|                0.0|              0.0|         -78.01117|         42.0834|Vossler Katherine 1|1944-04-25 00:00:00|Plugged and Aband...|                0|            175,263,922|\n",
            "|    Gas Wildcat|          2001|              0.0|                0.0|              0.0|         -78.01117|         42.0834|Vossler Katherine 1|1944-04-25 00:00:00|Plugged and Aband...|                1|            175,263,922|\n",
            "|    Gas Wildcat|          2004|              0.0|                0.0|              0.0|         -78.01117|         42.0834|Vossler Katherine 1|1944-04-25 00:00:00|Plugged and Aband...|                2|            175,263,922|\n",
            "|Gas Development|          1999|            260.0|                0.0|              0.0|-78.14544999999998|        42.11943|        Gilbert A 1|1928-09-11 00:00:00| Not Reported on AWR|                3|            471,492,947|\n",
            "|Gas Development|          2000|            192.0|                0.0|              0.0|-78.14544999999998|        42.11943|        Gilbert A 1|1928-09-11 00:00:00| Not Reported on AWR|                4|            471,492,947|\n",
            "|Gas Development|          1998|              0.0|                0.0|              0.0|-78.14544999999998|        42.11943|        Gilbert A 1|1928-09-11 00:00:00| Not Reported on AWR|                5|            471,492,947|\n",
            "|Gas Development|          1995|              0.0|                0.0|              0.0|-78.14544999999998|        42.11943|        Gilbert A 1|1928-09-11 00:00:00| Not Reported on AWR|                6|            471,492,947|\n",
            "|Gas Development|          2006|              0.0|                0.0|              0.0|-78.14544999999998|        42.11943|        Gilbert A 1|1928-09-11 00:00:00| Not Reported on AWR|                7|            471,492,947|\n",
            "|Gas Development|          2005|             93.0|                0.0|              0.0|-78.14544999999998|        42.11943|        Gilbert A 1|1928-09-11 00:00:00| Not Reported on AWR|                8|            471,492,947|\n",
            "|Gas Development|          2007|           1342.0|                0.0|              0.0|-78.14544999999998|        42.11943|        Gilbert A 1|1928-09-11 00:00:00| Not Reported on AWR|                9|            471,492,947|\n",
            "|Gas Development|          2008|              0.0|                0.0|              0.0|-78.14544999999998|        42.11943|        Gilbert A 1|1928-09-11 00:00:00| Not Reported on AWR|               10|            471,492,947|\n",
            "|Gas Development|          2009|          26829.0|                0.0|              0.0|-78.14544999999998|        42.11943|        Gilbert A 1|1928-09-11 00:00:00| Not Reported on AWR|               11|            471,492,947|\n",
            "|Gas Development|          2010|           8952.0|                0.0|              0.0|-78.14544999999998|        42.11943|        Gilbert A 1|1928-09-11 00:00:00| Not Reported on AWR|               12|            471,492,947|\n",
            "|Gas Development|          2011|             17.0|                0.0|              0.0|-78.14544999999998|        42.11943|        Gilbert A 1|1928-09-11 00:00:00| Not Reported on AWR|               13|            471,492,947|\n",
            "|Gas Development|          2012|              0.0|                0.0|              0.0|-78.14544999999998|        42.11943|        Gilbert A 1|1928-09-11 00:00:00| Not Reported on AWR|               14|            471,492,947|\n",
            "|    Dry Wildcat|          1988|              0.0|                0.0|              0.0|         -77.89463|        42.04985|    Loring Milton 1|1935-08-28 00:00:00|Plugged and Aband...|               15|              2,916,556|\n",
            "|    Dry Wildcat|          1989|              0.0|                0.0|              0.0|         -77.89463|        42.04985|    Loring Milton 1|1935-08-28 00:00:00|Plugged and Aband...|               16|              2,916,556|\n",
            "|    Dry Wildcat|          1990|              0.0|                0.0|              0.0|         -77.89463|        42.04985|    Loring Milton 1|1935-08-28 00:00:00|Plugged and Aband...|               17|              2,916,556|\n",
            "|    Dry Wildcat|          1992|              0.0|                0.0|              0.0|         -77.89463|        42.04985|    Loring Milton 1|1935-08-28 00:00:00|Plugged and Aband...|               18|              2,916,556|\n",
            "|    Dry Wildcat|          1997|              0.0|                0.0|              0.0|         -77.89463|        42.04985|    Loring Milton 1|1935-08-28 00:00:00|Plugged and Aband...|               19|              2,916,556|\n",
            "+---------------+--------------+-----------------+-------------------+-----------------+------------------+----------------+-------------------+-------------------+--------------------+-----------------+-----------------------+\n",
            "only showing top 20 rows\n",
            "\n"
          ]
        }
      ]
    },
    {
      "cell_type": "markdown",
      "source": [
        "## End Spark"
      ],
      "metadata": {
        "id": "8oL60mjykOH9"
      }
    },
    {
      "cell_type": "code",
      "source": [
        "spark.stop()"
      ],
      "metadata": {
        "id": "jodes2JNOS-S"
      },
      "execution_count": 22,
      "outputs": []
    }
  ]
}
