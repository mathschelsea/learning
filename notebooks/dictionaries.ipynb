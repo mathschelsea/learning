{
  "nbformat": 4,
  "nbformat_minor": 0,
  "metadata": {
    "colab": {
      "provenance": [],
      "authorship_tag": "ABX9TyOtwvc25HETNVkJWmH7JuTe"
    },
    "kernelspec": {
      "name": "python3",
      "display_name": "Python 3"
    },
    "language_info": {
      "name": "python"
    }
  },
  "cells": [
    {
      "cell_type": "markdown",
      "source": [
        "#Dictionaries in Python\n",
        "\n",
        "📙 A Python dictionary is an ordered collection of `key:value` pairs. They're very similar to an ordinary dictionary in which the key is 'Apple' and the value is it's definition 'the round fruit of a tree of the rose family, which typically has thin green or red skin and crisp flesh'. Python dictionaries are useful as they allow us to store and easily access important data."
      ],
      "metadata": {
        "id": "CQg--_HEXerd"
      }
    },
    {
      "cell_type": "markdown",
      "source": [
        "## Data Science Example\n",
        "\n",
        "Below I give an example of how I use dictionaries everyday as a Data Scientist; that is, using dictionaries to store a model's hyperparameters."
      ],
      "metadata": {
        "id": "WDImhhenb1ND"
      }
    },
    {
      "cell_type": "code",
      "source": [
        "# import the data\n",
        "import pandas as pd\n",
        "\n",
        "df = pd.read_csv('Breast_cancer_data.csv')\n",
        "df.shape"
      ],
      "metadata": {
        "colab": {
          "base_uri": "https://localhost:8080/"
        },
        "id": "0tYqyRwxzlbH",
        "outputId": "6bc45f2e-87c0-4dc4-cda2-ca93e173218c"
      },
      "execution_count": 76,
      "outputs": [
        {
          "output_type": "execute_result",
          "data": {
            "text/plain": [
              "(569, 6)"
            ]
          },
          "metadata": {},
          "execution_count": 76
        }
      ]
    },
    {
      "cell_type": "code",
      "source": [
        "# get some quick, high-level information about the data\n",
        "print('Name , type , unique levels , missing count ')\n",
        "print('')\n",
        "for col in df.columns:\n",
        "  print(col, ',', df[col].dtype, ',', df[col].nunique(dropna=False), ',', df[col].isna().sum())"
      ],
      "metadata": {
        "colab": {
          "base_uri": "https://localhost:8080/"
        },
        "id": "CxOIvDsBzlQK",
        "outputId": "5166c557-8e4f-4216-d048-a5fe5425f1e9"
      },
      "execution_count": 77,
      "outputs": [
        {
          "output_type": "stream",
          "name": "stdout",
          "text": [
            "Name , type , unique levels , missing count \n",
            "\n",
            "mean_radius , float64 , 456 , 0\n",
            "mean_texture , float64 , 479 , 0\n",
            "mean_perimeter , float64 , 522 , 0\n",
            "mean_area , float64 , 539 , 0\n",
            "mean_smoothness , float64 , 474 , 0\n",
            "diagnosis , int64 , 2 , 0\n"
          ]
        }
      ]
    },
    {
      "cell_type": "code",
      "source": [
        "# Check distribution of dependent variable\n",
        "df['diagnosis'].value_counts(dropna=False)"
      ],
      "metadata": {
        "colab": {
          "base_uri": "https://localhost:8080/"
        },
        "id": "GEVSPjfV1PRQ",
        "outputId": "33e8a420-2f99-4ab5-cbb2-f644dbd1d97f"
      },
      "execution_count": 78,
      "outputs": [
        {
          "output_type": "execute_result",
          "data": {
            "text/plain": [
              "diagnosis\n",
              "1    357\n",
              "0    212\n",
              "Name: count, dtype: int64"
            ]
          },
          "metadata": {},
          "execution_count": 78
        }
      ]
    },
    {
      "cell_type": "code",
      "source": [
        "# Split data into train and test\n",
        "from sklearn.model_selection import train_test_split\n",
        "\n",
        "df_x = df.drop('diagnosis', axis=1)\n",
        "df_y = df['diagnosis']\n",
        "\n",
        "x_train, x_test, y_train, y_test = train_test_split(df_x, df_y, test_size = 0.3, random_state = 37)"
      ],
      "metadata": {
        "id": "aFL15xjn1bg1"
      },
      "execution_count": 79,
      "outputs": []
    },
    {
      "cell_type": "code",
      "source": [
        "# train model\n",
        "import lightgbm as lgb\n",
        "\n",
        "m = lgb.LGBMClassifier(random_state=37, verbose=-1)\n",
        "m.fit(x_train, y_train)\n",
        "\n",
        "# predict the results\n",
        "y_pred = m.predict(x_test)"
      ],
      "metadata": {
        "id": "mB1E6rzK2bCG"
      },
      "execution_count": 80,
      "outputs": []
    },
    {
      "cell_type": "code",
      "source": [
        "# check some performance metrics\n",
        "from sklearn.metrics import accuracy_score\n",
        "from sklearn.metrics import confusion_matrix\n",
        "\n",
        "accuracy = accuracy_score(y_pred, y_test)\n",
        "print('LightGBM Model accuracy score: {0:0.4f}'.format(accuracy_score(y_test, y_pred)))\n",
        "\n",
        "cm = confusion_matrix(y_test, y_pred)\n",
        "print('\\nConfusion matrix:\\n', cm)"
      ],
      "metadata": {
        "colab": {
          "base_uri": "https://localhost:8080/"
        },
        "id": "_W5sbQX73clS",
        "outputId": "8e4fc8fb-2f27-4c18-82b2-56267e4ceef1"
      },
      "execution_count": 81,
      "outputs": [
        {
          "output_type": "stream",
          "name": "stdout",
          "text": [
            "LightGBM Model accuracy score: 0.9181\n",
            "\n",
            "Confusion matrix:\n",
            " [[ 49  10]\n",
            " [  4 108]]\n"
          ]
        }
      ]
    },
    {
      "cell_type": "code",
      "source": [
        "# access the model's hyperparameters - they're stored in a Python dictionary\n",
        "hyperparameters = m.get_params(deep=True)\n",
        "hyperparameters"
      ],
      "metadata": {
        "colab": {
          "base_uri": "https://localhost:8080/"
        },
        "id": "kXMPlww2RenU",
        "outputId": "cc596186-debe-4784-8c8e-08b51dd8f3d0"
      },
      "execution_count": 82,
      "outputs": [
        {
          "output_type": "execute_result",
          "data": {
            "text/plain": [
              "{'boosting_type': 'gbdt',\n",
              " 'class_weight': None,\n",
              " 'colsample_bytree': 1.0,\n",
              " 'importance_type': 'split',\n",
              " 'learning_rate': 0.1,\n",
              " 'max_depth': -1,\n",
              " 'min_child_samples': 20,\n",
              " 'min_child_weight': 0.001,\n",
              " 'min_split_gain': 0.0,\n",
              " 'n_estimators': 100,\n",
              " 'n_jobs': None,\n",
              " 'num_leaves': 31,\n",
              " 'objective': None,\n",
              " 'random_state': 37,\n",
              " 'reg_alpha': 0.0,\n",
              " 'reg_lambda': 0.0,\n",
              " 'subsample': 1.0,\n",
              " 'subsample_for_bin': 200000,\n",
              " 'subsample_freq': 0,\n",
              " 'verbose': -1}"
            ]
          },
          "metadata": {},
          "execution_count": 82
        }
      ]
    },
    {
      "cell_type": "code",
      "source": [
        "# accessing certain keys in the hyperparameter dictionary\n",
        "key = 'num_leaves'\n",
        "print(f'Key: {key}')\n",
        "print(f'Value: {hyperparameters[key]}')"
      ],
      "metadata": {
        "colab": {
          "base_uri": "https://localhost:8080/"
        },
        "id": "zoA5vv4ncs5x",
        "outputId": "5f433994-1f48-41f5-8912-9288f732685f"
      },
      "execution_count": 83,
      "outputs": [
        {
          "output_type": "stream",
          "name": "stdout",
          "text": [
            "Key: num_leaves\n",
            "Value: 31\n"
          ]
        }
      ]
    },
    {
      "cell_type": "code",
      "source": [
        "# writing the hyperparameter dictionary to a yaml file\n",
        "import yaml\n",
        "\n",
        "with open('hyperparameters.yaml', 'w') as outfile:\n",
        "    yaml.dump(hyperparameters, outfile, default_flow_style=False)"
      ],
      "metadata": {
        "id": "D-6wYKjpdvgU"
      },
      "execution_count": 84,
      "outputs": []
    },
    {
      "cell_type": "code",
      "source": [
        "# reading yaml file\n",
        "with open(\"hyperparameters.yaml\", 'r') as hp_yaml:\n",
        "    hyp_params = yaml.safe_load(hp_yaml)"
      ],
      "metadata": {
        "id": "CU8x8E2uTt0k"
      },
      "execution_count": 85,
      "outputs": []
    },
    {
      "cell_type": "code",
      "source": [
        "# make an update to the hyperparameters\n",
        "hyp_params2 = { **hyp_params, 'boosting_type': 'goss', 'random_state': '38'}\n",
        "hyp_params2"
      ],
      "metadata": {
        "colab": {
          "base_uri": "https://localhost:8080/"
        },
        "id": "zbnrh689Uqky",
        "outputId": "5877062f-c9fd-4465-e86a-3823bf5eace3"
      },
      "execution_count": 86,
      "outputs": [
        {
          "output_type": "execute_result",
          "data": {
            "text/plain": [
              "{'boosting_type': 'goss',\n",
              " 'class_weight': None,\n",
              " 'colsample_bytree': 1.0,\n",
              " 'importance_type': 'split',\n",
              " 'learning_rate': 0.1,\n",
              " 'max_depth': -1,\n",
              " 'min_child_samples': 20,\n",
              " 'min_child_weight': 0.001,\n",
              " 'min_split_gain': 0.0,\n",
              " 'n_estimators': 100,\n",
              " 'n_jobs': None,\n",
              " 'num_leaves': 31,\n",
              " 'objective': None,\n",
              " 'random_state': '38',\n",
              " 'reg_alpha': 0.0,\n",
              " 'reg_lambda': 0.0,\n",
              " 'subsample': 1.0,\n",
              " 'subsample_for_bin': 200000,\n",
              " 'subsample_freq': 0,\n",
              " 'verbose': -1}"
            ]
          },
          "metadata": {},
          "execution_count": 86
        }
      ]
    },
    {
      "cell_type": "code",
      "source": [
        "# training a model using these hyperparameters\n",
        "m2 = lgb.LGBMClassifier(**hyp_params2)\n",
        "m2.fit(x_train, y_train)\n",
        "\n",
        "# predict the results\n",
        "y_pred2 = m2.predict(x_test)\n",
        "\n",
        "accuracy = accuracy_score(y_pred2, y_test)\n",
        "print('LightGBM Model accuracy score: {0:0.4f}'.format(accuracy_score(y_test, y_pred2)))\n",
        "\n",
        "cm = confusion_matrix(y_test, y_pred2)\n",
        "print('\\nConfusion matrix:\\n', cm)\n",
        "\n",
        "hyperparameters2 = m2.get_params(deep=True)\n",
        "print('\\nhyperparameters:')\n",
        "hyperparameters2"
      ],
      "metadata": {
        "colab": {
          "base_uri": "https://localhost:8080/"
        },
        "id": "mzy2szg-UZg5",
        "outputId": "caef6e5d-fbe1-4dec-e27f-6f8d18318c3a"
      },
      "execution_count": 87,
      "outputs": [
        {
          "output_type": "stream",
          "name": "stdout",
          "text": [
            "LightGBM Model accuracy score: 0.9298\n",
            "\n",
            "Confusion matrix:\n",
            " [[ 51   8]\n",
            " [  4 108]]\n",
            "\n",
            "hyperparameters:\n"
          ]
        },
        {
          "output_type": "execute_result",
          "data": {
            "text/plain": [
              "{'boosting_type': 'goss',\n",
              " 'class_weight': None,\n",
              " 'colsample_bytree': 1.0,\n",
              " 'importance_type': 'split',\n",
              " 'learning_rate': 0.1,\n",
              " 'max_depth': -1,\n",
              " 'min_child_samples': 20,\n",
              " 'min_child_weight': 0.001,\n",
              " 'min_split_gain': 0.0,\n",
              " 'n_estimators': 100,\n",
              " 'n_jobs': None,\n",
              " 'num_leaves': 31,\n",
              " 'objective': None,\n",
              " 'random_state': '38',\n",
              " 'reg_alpha': 0.0,\n",
              " 'reg_lambda': 0.0,\n",
              " 'subsample': 1.0,\n",
              " 'subsample_for_bin': 200000,\n",
              " 'subsample_freq': 0,\n",
              " 'verbose': -1}"
            ]
          },
          "metadata": {},
          "execution_count": 87
        }
      ]
    },
    {
      "cell_type": "markdown",
      "source": [
        "## Other Dictionary Hacks"
      ],
      "metadata": {
        "id": "CO7QlG4-XYuV"
      }
    },
    {
      "cell_type": "code",
      "source": [
        "# creating a dictionary from scratch\n",
        "\n",
        "my_dict = dict(model1 = dict(boosting_type = 'goss',\n",
        "                  lambda_11 = 0.1,\n",
        "                  lambda_12 = 0,\n",
        "                  learning_rate = 0.1,\n",
        "                  max_depth = 4,\n",
        "                  metric = 'poisson',\n",
        "                  min_data_in_leaf = 5000,\n",
        "                  min_split_gain = 0,\n",
        "                  n_estimators = 500,\n",
        "                  num_leaves = 100,\n",
        "                  objective = 'poisson',\n",
        "                  verbose = -1),\n",
        "            model2 = dict(boosting_type = 'goss',\n",
        "                  lambda_11 = 0.2,\n",
        "                  lambda_12 = 0,\n",
        "                  learning_rate = 0.12,\n",
        "                  max_depth = 3,\n",
        "                  metric = 'gamma',\n",
        "                  min_data_in_leaf = 400,\n",
        "                  min_split_gain = 0,\n",
        "                  n_estimators = 300,\n",
        "                  num_leaves = 100,\n",
        "                  objective = 'gamma',\n",
        "                  verbose = -1))"
      ],
      "metadata": {
        "id": "kdJvL8-lk4cK"
      },
      "execution_count": 88,
      "outputs": []
    },
    {
      "cell_type": "code",
      "source": [
        "# access a value\n",
        "print('model 1 boosting_type:', my_dict['model1']['boosting_type'])"
      ],
      "metadata": {
        "colab": {
          "base_uri": "https://localhost:8080/"
        },
        "id": "M37EB-GMkDjK",
        "outputId": "f948330b-f97c-41bd-9a1a-cc323eec0335"
      },
      "execution_count": 89,
      "outputs": [
        {
          "output_type": "stream",
          "name": "stdout",
          "text": [
            "model 1 boosting_type: goss\n"
          ]
        }
      ]
    },
    {
      "cell_type": "code",
      "source": [
        "# modify value\n",
        "my_dict['model2']['n_estimators'] = 350\n",
        "print('model 2 n_estimators:', my_dict['model2']['n_estimators'])"
      ],
      "metadata": {
        "colab": {
          "base_uri": "https://localhost:8080/"
        },
        "id": "3oBvLwgSkRmL",
        "outputId": "2754d6f8-7816-4e5d-c077-86e53facf5b9"
      },
      "execution_count": 90,
      "outputs": [
        {
          "output_type": "stream",
          "name": "stdout",
          "text": [
            "model 2 n_estimators: 350\n"
          ]
        }
      ]
    },
    {
      "cell_type": "code",
      "source": [
        "# Delete key-value pair\n",
        "del my_dict['model1']['verbose']\n",
        "my_dict['model1']"
      ],
      "metadata": {
        "colab": {
          "base_uri": "https://localhost:8080/"
        },
        "id": "ZcgKl1hBkhhV",
        "outputId": "1f74940c-dac7-4758-d876-e8d9cbb88b25"
      },
      "execution_count": 91,
      "outputs": [
        {
          "output_type": "execute_result",
          "data": {
            "text/plain": [
              "{'boosting_type': 'goss',\n",
              " 'lambda_11': 0.1,\n",
              " 'lambda_12': 0,\n",
              " 'learning_rate': 0.1,\n",
              " 'max_depth': 4,\n",
              " 'metric': 'poisson',\n",
              " 'min_data_in_leaf': 5000,\n",
              " 'min_split_gain': 0,\n",
              " 'n_estimators': 500,\n",
              " 'num_leaves': 100,\n",
              " 'objective': 'poisson'}"
            ]
          },
          "metadata": {},
          "execution_count": 91
        }
      ]
    },
    {
      "cell_type": "code",
      "source": [
        "# Iterate through keys and values\n",
        "for key, value in my_dict['model1'].items():\n",
        "    print(key, \":\", value)"
      ],
      "metadata": {
        "colab": {
          "base_uri": "https://localhost:8080/"
        },
        "id": "A5e6f8XukvAU",
        "outputId": "1a5b35d1-d56a-458e-9d7f-172325ac5c59"
      },
      "execution_count": 92,
      "outputs": [
        {
          "output_type": "stream",
          "name": "stdout",
          "text": [
            "boosting_type : goss\n",
            "lambda_11 : 0.1\n",
            "lambda_12 : 0\n",
            "learning_rate : 0.1\n",
            "max_depth : 4\n",
            "metric : poisson\n",
            "min_data_in_leaf : 5000\n",
            "min_split_gain : 0\n",
            "n_estimators : 500\n",
            "num_leaves : 100\n",
            "objective : poisson\n"
          ]
        }
      ]
    },
    {
      "cell_type": "code",
      "source": [
        "# Check if a key exists\n",
        "if 'verbose' in my_dict['model1']:\n",
        "    print(\"verbose is present\")\n",
        "else:\n",
        "    print(\"verbose is not present\")"
      ],
      "metadata": {
        "colab": {
          "base_uri": "https://localhost:8080/"
        },
        "id": "lBA8h-RIk4uL",
        "outputId": "099a19b8-8a84-47a3-f267-547920bbd74c"
      },
      "execution_count": 93,
      "outputs": [
        {
          "output_type": "stream",
          "name": "stdout",
          "text": [
            "verbose is not present\n"
          ]
        }
      ]
    },
    {
      "cell_type": "code",
      "source": [
        "# Merge dictionaries\n",
        "add_dict = { 'model3': {'boosting type': 'gbdt', 'n_estimators': 100},\n",
        "             'model4': {'boosting type': 'gbdt', 'n_estimators': 500}}\n",
        "my_dict.update(add_dict)"
      ],
      "metadata": {
        "id": "8xICgXQQmH-0"
      },
      "execution_count": 94,
      "outputs": []
    },
    {
      "cell_type": "code",
      "source": [
        "# Length of dictionary\n",
        "print(\"Number of models:\", len(my_dict))\n",
        "for i in range(1,len(my_dict)+1):\n",
        "  mod = f'model{i}'\n",
        "  print(f'Number of hyperparameters in {mod}: {len(my_dict[mod])}')"
      ],
      "metadata": {
        "colab": {
          "base_uri": "https://localhost:8080/"
        },
        "id": "zMZKTb76lCQV",
        "outputId": "73b9d995-6691-4d27-e23f-70c01cd12a8b"
      },
      "execution_count": 98,
      "outputs": [
        {
          "output_type": "stream",
          "name": "stdout",
          "text": [
            "Number of models: 4\n",
            "Number of hyperparameters in model1: 11\n",
            "Number of hyperparameters in model2: 12\n",
            "Number of hyperparameters in model3: 2\n",
            "Number of hyperparameters in model4: 2\n"
          ]
        }
      ]
    },
    {
      "cell_type": "code",
      "source": [
        "# Clear the dictionary\n",
        "my_dict.clear()\n",
        "my_dict"
      ],
      "metadata": {
        "colab": {
          "base_uri": "https://localhost:8080/"
        },
        "id": "E5trT-I6neRK",
        "outputId": "a25389d6-3d61-4f63-9221-0921dc1f0c88"
      },
      "execution_count": 100,
      "outputs": [
        {
          "output_type": "execute_result",
          "data": {
            "text/plain": [
              "{}"
            ]
          },
          "metadata": {},
          "execution_count": 100
        }
      ]
    }
  ]
}