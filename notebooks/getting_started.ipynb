{
  "nbformat": 4,
  "nbformat_minor": 0,
  "metadata": {
    "colab": {
      "provenance": [],
      "authorship_tag": "ABX9TyMCx9GwcAZ3T3ZWuCDHIAvq"
    },
    "kernelspec": {
      "name": "python3",
      "display_name": "Python 3"
    },
    "language_info": {
      "name": "python"
    }
  },
  "cells": [
    {
      "cell_type": "markdown",
      "source": [
        "# Getting Started with Data Science"
      ],
      "metadata": {
        "id": "_tTpU3XfXTeS"
      }
    },
    {
      "cell_type": "markdown",
      "source": [
        "If you want to get started on or reignite your Data Science journey then look no further than this notebook. In here you will do the following:\n",
        "\n",
        "1. Use a free, cloud based platform to run Python code.\n",
        "2. Download a data science dataset.\n",
        "3. Train your first machine learning model.\n",
        "\n",
        "This can all be done in less than 10 minutes. Let's get cracking!"
      ],
      "metadata": {
        "id": "06Gx0oIMi10h"
      }
    },
    {
      "cell_type": "markdown",
      "source": [
        "## 1 - Google Colab"
      ],
      "metadata": {
        "id": "MvDA6QwOjIfL"
      }
    },
    {
      "cell_type": "markdown",
      "source": [
        "The free, cloud based platform that I speak about above is Google Colaboratory - Colab for short.\n",
        "\n",
        "☁️ Colab provides a convenient and free platform for running Python code, particularly suited for those not interested in local installation or powerful hardware. It's a hosted Jupyter Notebook service, inheriting all the pros of Jupyter, such as interactivity, visualizations, and documentation capabilities.\n",
        "\n",
        "You can open this notebook in Colab by clicking the button below. It then becomes your notebook to edit as you wish and save to your Google Drive. If you don't have a Google account you may need to open one (don't worry, that is also free and quick to set up)"
      ],
      "metadata": {
        "id": "n3wDX37cXfS0"
      }
    },
    {
      "cell_type": "markdown",
      "source": [
        "## 2 - Kaggle Dataset"
      ],
      "metadata": {
        "id": "MA3LXGxDjgR3"
      }
    },
    {
      "cell_type": "markdown",
      "source": [
        "The data science dataset that I speak about is provided by Kaggle.\n",
        "\n",
        "🔭 Kaggle is a Data Science competition platform and online community. It provides a space to delve into diverse datasets, work on modelling projects, collaborate with others, and learn from shared insights.\n",
        "\n",
        "The below code downloads the Kaggle dataset [Blue Book for Bulldozers](https://www.kaggle.com/c/bluebook-for-bulldozers/overview). If you'd prefer a different dataset then feel free to edit the code below as required. If you don't have a [Kaggle](https://www.kaggle.com/) account then you will need to open one (again, don't worry, it's free and quick to open)."
      ],
      "metadata": {
        "id": "7iVm1Jc5X1eR"
      }
    },
    {
      "cell_type": "markdown",
      "source": [
        "### 2.1 - Kaggle Credentials"
      ],
      "metadata": {
        "id": "PaHEsQR_moir"
      }
    },
    {
      "cell_type": "markdown",
      "source": [
        "Go the the settings page on Kaggle and on the account tab scroll down to API. Select the 'Create New Token' button (see image below). This will download a 'kaggle.json' file to your PC. Remember where this file is downloaded to as we'll need it later."
      ],
      "metadata": {
        "id": "bqinLXJEm-pl"
      }
    },
    {
      "cell_type": "markdown",
      "source": [
        "![Kaggle Crednetials](https://raw.githubusercontent.com/mathschelsea/learning/main/media/kaggle_api.png)"
      ],
      "metadata": {
        "id": "ehDvR8_moqeJ"
      }
    },
    {
      "cell_type": "markdown",
      "source": [
        "### 2.2 - Download Data"
      ],
      "metadata": {
        "id": "8WWKpZnxpXmO"
      }
    },
    {
      "cell_type": "markdown",
      "source": [
        "When you run the code below you will be prompted to uploaded your Kaggle credentials to the .kaggle directory on your local machine. This is the 'kaggle.json' file that you downloaded in the previous section."
      ],
      "metadata": {
        "id": "V8J7VEH5pccQ"
      }
    },
    {
      "cell_type": "code",
      "execution_count": null,
      "metadata": {
        "id": "IdiWBxm5XSyI"
      },
      "outputs": [],
      "source": [
        "# install kaggle\n",
        "!pip install -q kaggle\n",
        "\n",
        "# upload the 'Kaggle.json' file\n",
        "from google.colab import files\n",
        "files.upload()\n",
        "\n",
        "# make a kaggle directory and move the json file there\n",
        "!mkdir ~/.kaggle\n",
        "!mv kaggle.json ~/.kaggle\n",
        "\n",
        "# change permissions so only you have read & write access to the credentials\n",
        "!chmod 600 ~/.kaggle/kaggle.json\n",
        "\n",
        "# download dataset from Kaggle\n",
        "!kaggle competitions download -c 'bluebook-for-bulldozers'\n",
        "\n",
        "# make a 'data' directory and move the dataset there\n",
        "!mkdir data\n",
        "!mv bluebook-for-bulldozers.zip data\n",
        "\n",
        "# unzip bulldozers data\n",
        "!unzip data/bluebook-for-bulldozers.zip -d data/bbfb\n",
        "\n",
        "# unzip train data\n",
        "!unzip data/bbfb/Train.zip -d data/bbfb"
      ]
    },
    {
      "cell_type": "markdown",
      "source": [
        "If you open the left-hand-side panel on Colab, you should be able to see that new 'data' folder and the Blue Book for Bulldozers data within it."
      ],
      "metadata": {
        "id": "rZbsWjf8qAOO"
      }
    },
    {
      "cell_type": "markdown",
      "source": [
        "## 3 - Machine Learning"
      ],
      "metadata": {
        "id": "_en_372OqRKH"
      }
    },
    {
      "cell_type": "markdown",
      "source": [
        "### 3.1 - Looking at the data"
      ],
      "metadata": {
        "id": "egUJFdUPqWoi"
      }
    },
    {
      "cell_type": "code",
      "source": [],
      "metadata": {
        "id": "MWNVlyk2qO-Q"
      },
      "execution_count": null,
      "outputs": []
    },
    {
      "cell_type": "markdown",
      "source": [
        "### 3.2 - Editing the data"
      ],
      "metadata": {
        "id": "CPseT-tYqZ-4"
      }
    },
    {
      "cell_type": "code",
      "source": [],
      "metadata": {
        "id": "xhzyqIriqczn"
      },
      "execution_count": null,
      "outputs": []
    },
    {
      "cell_type": "markdown",
      "source": [
        "### 3.3 - Training a model"
      ],
      "metadata": {
        "id": "69-WY8G9qdg6"
      }
    },
    {
      "cell_type": "code",
      "source": [],
      "metadata": {
        "id": "iFD77WWlqhGg"
      },
      "execution_count": null,
      "outputs": []
    },
    {
      "cell_type": "markdown",
      "source": [
        "### 3.4 - Evaluating the model"
      ],
      "metadata": {
        "id": "J1Vatmcbqkax"
      }
    },
    {
      "cell_type": "code",
      "source": [],
      "metadata": {
        "id": "5uSmWMxXqnJg"
      },
      "execution_count": null,
      "outputs": []
    }
  ]
}