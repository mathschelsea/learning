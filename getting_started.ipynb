{
  "nbformat": 4,
  "nbformat_minor": 0,
  "metadata": {
    "colab": {
      "provenance": [],
      "collapsed_sections": [
        "MvDA6QwOjIfL",
        "MA3LXGxDjgR3",
        "2pZbAiXW3CoN",
        "DtIgHCu_2c0u",
        "pW1LTVG22hio",
        "EzjRIdhn898J"
      ],
      "authorship_tag": "ABX9TyOfqrA/vvr4+DfvHk1VdC+O"
    },
    "kernelspec": {
      "name": "python3",
      "display_name": "Python 3"
    },
    "language_info": {
      "name": "python"
    }
  },
  "cells": [
    {
      "cell_type": "markdown",
      "source": [
        "# Getting Started with Data Science"
      ],
      "metadata": {
        "id": "_tTpU3XfXTeS"
      }
    },
    {
      "cell_type": "markdown",
      "source": [
        "If you want to get started on or reignite your Data Science journey then look no further than this notebook. In here you will do the following:\n",
        "\n",
        "1. Use a free, cloud based platform to run Python code.\n",
        "2. Download a Data Science dataset.\n",
        "3. Train your first machine learning model.\n",
        "\n",
        "This can all be done in less than 10 minutes. Let's get cracking!"
      ],
      "metadata": {
        "id": "06Gx0oIMi10h"
      }
    },
    {
      "cell_type": "markdown",
      "source": [
        "## 1 - Google Colab"
      ],
      "metadata": {
        "id": "MvDA6QwOjIfL"
      }
    },
    {
      "cell_type": "markdown",
      "source": [
        "The free, cloud based platform that I speak about above is Google Colaboratory - Colab for short.\n",
        "\n",
        "☁️ Colab provides a convenient and free platform for running Python code, particularly suited for those not interested in local installation or powerful hardware. It's a hosted Jupyter Notebook service, inheriting all the pros of Jupyter, such as interactivity, visualizations, and documentation capabilities.\n",
        "\n",
        "You can open this notebook in Colab by clicking the button below."
      ],
      "metadata": {
        "id": "n3wDX37cXfS0"
      }
    },
    {
      "cell_type": "markdown",
      "source": [
        "<a target=\"_blank\" href=\"https://colab.research.google.com/github/mathschelsea/learning/blob/main/notebooks/getting_started.ipynb\">\n",
        "  <img src=\"https://colab.research.google.com/assets/colab-badge.svg\" alt=\"Open In Colab\"/>\n",
        "</a>\n",
        "\n",
        "This then becomes your notebook to edit as you wish and save to your Google Drive. If you don't have a Google account you may need to open one (don't worry, that is also free and quick to set up)"
      ],
      "metadata": {
        "id": "gGApCGJWrg1l"
      }
    },
    {
      "cell_type": "markdown",
      "source": [
        "## 2 - Kaggle Dataset"
      ],
      "metadata": {
        "id": "MA3LXGxDjgR3"
      }
    },
    {
      "cell_type": "markdown",
      "source": [
        "The Data Science dataset is one provided by Kaggle.\n",
        "\n",
        "🔭 Kaggle is a Data Science competition platform and online community. It provides a space to delve into diverse datasets, work on modelling projects, collaborate with others, and learn from shared insights.\n",
        "\n",
        "The below code downloads the Kaggle dataset [Blue Book for Bulldozers](https://www.kaggle.com/c/bluebook-for-bulldozers/overview). If you'd prefer a different dataset then feel free to edit the code below as required. If you don't have a [Kaggle](https://www.kaggle.com/) account then you will need to open one (again, don't worry, it's free and quick to open)."
      ],
      "metadata": {
        "id": "7iVm1Jc5X1eR"
      }
    },
    {
      "cell_type": "markdown",
      "source": [
        "### 2.1 - Kaggle Credentials"
      ],
      "metadata": {
        "id": "PaHEsQR_moir"
      }
    },
    {
      "cell_type": "markdown",
      "source": [
        "Go the the settings page on Kaggle and on the account tab scroll down to API. Select the 'Create New Token' button (see image below). This will download a 'kaggle.json' file to your PC. Remember where this file is downloaded to as we'll need it later."
      ],
      "metadata": {
        "id": "bqinLXJEm-pl"
      }
    },
    {
      "cell_type": "markdown",
      "source": [
        "![Kaggle Crednetials](https://raw.githubusercontent.com/mathschelsea/learning/main/media/kaggle_api.png)"
      ],
      "metadata": {
        "id": "ehDvR8_moqeJ"
      }
    },
    {
      "cell_type": "markdown",
      "source": [
        "### 2.2 - Download Data"
      ],
      "metadata": {
        "id": "8WWKpZnxpXmO"
      }
    },
    {
      "cell_type": "markdown",
      "source": [
        "Run the code below to download the Blue Book for Bulldozers data into your Colab runtime session. When you run the code you will be prompted to uploaded your Kaggle credentials to the .kaggle directory on your local machine. This is the 'kaggle.json' file that you downloaded in the previous section."
      ],
      "metadata": {
        "id": "V8J7VEH5pccQ"
      }
    },
    {
      "cell_type": "code",
      "execution_count": 1,
      "metadata": {
        "id": "IdiWBxm5XSyI",
        "colab": {
          "base_uri": "https://localhost:8080/",
          "height": 0
        },
        "outputId": "f5981712-43e1-47bd-cda3-cbe8f299007d"
      },
      "outputs": [
        {
          "output_type": "display_data",
          "data": {
            "text/plain": [
              "<IPython.core.display.HTML object>"
            ],
            "text/html": [
              "\n",
              "     <input type=\"file\" id=\"files-e0733ad6-c641-470e-87d7-6f8c8229c847\" name=\"files[]\" multiple disabled\n",
              "        style=\"border:none\" />\n",
              "     <output id=\"result-e0733ad6-c641-470e-87d7-6f8c8229c847\">\n",
              "      Upload widget is only available when the cell has been executed in the\n",
              "      current browser session. Please rerun this cell to enable.\n",
              "      </output>\n",
              "      <script>// Copyright 2017 Google LLC\n",
              "//\n",
              "// Licensed under the Apache License, Version 2.0 (the \"License\");\n",
              "// you may not use this file except in compliance with the License.\n",
              "// You may obtain a copy of the License at\n",
              "//\n",
              "//      http://www.apache.org/licenses/LICENSE-2.0\n",
              "//\n",
              "// Unless required by applicable law or agreed to in writing, software\n",
              "// distributed under the License is distributed on an \"AS IS\" BASIS,\n",
              "// WITHOUT WARRANTIES OR CONDITIONS OF ANY KIND, either express or implied.\n",
              "// See the License for the specific language governing permissions and\n",
              "// limitations under the License.\n",
              "\n",
              "/**\n",
              " * @fileoverview Helpers for google.colab Python module.\n",
              " */\n",
              "(function(scope) {\n",
              "function span(text, styleAttributes = {}) {\n",
              "  const element = document.createElement('span');\n",
              "  element.textContent = text;\n",
              "  for (const key of Object.keys(styleAttributes)) {\n",
              "    element.style[key] = styleAttributes[key];\n",
              "  }\n",
              "  return element;\n",
              "}\n",
              "\n",
              "// Max number of bytes which will be uploaded at a time.\n",
              "const MAX_PAYLOAD_SIZE = 100 * 1024;\n",
              "\n",
              "function _uploadFiles(inputId, outputId) {\n",
              "  const steps = uploadFilesStep(inputId, outputId);\n",
              "  const outputElement = document.getElementById(outputId);\n",
              "  // Cache steps on the outputElement to make it available for the next call\n",
              "  // to uploadFilesContinue from Python.\n",
              "  outputElement.steps = steps;\n",
              "\n",
              "  return _uploadFilesContinue(outputId);\n",
              "}\n",
              "\n",
              "// This is roughly an async generator (not supported in the browser yet),\n",
              "// where there are multiple asynchronous steps and the Python side is going\n",
              "// to poll for completion of each step.\n",
              "// This uses a Promise to block the python side on completion of each step,\n",
              "// then passes the result of the previous step as the input to the next step.\n",
              "function _uploadFilesContinue(outputId) {\n",
              "  const outputElement = document.getElementById(outputId);\n",
              "  const steps = outputElement.steps;\n",
              "\n",
              "  const next = steps.next(outputElement.lastPromiseValue);\n",
              "  return Promise.resolve(next.value.promise).then((value) => {\n",
              "    // Cache the last promise value to make it available to the next\n",
              "    // step of the generator.\n",
              "    outputElement.lastPromiseValue = value;\n",
              "    return next.value.response;\n",
              "  });\n",
              "}\n",
              "\n",
              "/**\n",
              " * Generator function which is called between each async step of the upload\n",
              " * process.\n",
              " * @param {string} inputId Element ID of the input file picker element.\n",
              " * @param {string} outputId Element ID of the output display.\n",
              " * @return {!Iterable<!Object>} Iterable of next steps.\n",
              " */\n",
              "function* uploadFilesStep(inputId, outputId) {\n",
              "  const inputElement = document.getElementById(inputId);\n",
              "  inputElement.disabled = false;\n",
              "\n",
              "  const outputElement = document.getElementById(outputId);\n",
              "  outputElement.innerHTML = '';\n",
              "\n",
              "  const pickedPromise = new Promise((resolve) => {\n",
              "    inputElement.addEventListener('change', (e) => {\n",
              "      resolve(e.target.files);\n",
              "    });\n",
              "  });\n",
              "\n",
              "  const cancel = document.createElement('button');\n",
              "  inputElement.parentElement.appendChild(cancel);\n",
              "  cancel.textContent = 'Cancel upload';\n",
              "  const cancelPromise = new Promise((resolve) => {\n",
              "    cancel.onclick = () => {\n",
              "      resolve(null);\n",
              "    };\n",
              "  });\n",
              "\n",
              "  // Wait for the user to pick the files.\n",
              "  const files = yield {\n",
              "    promise: Promise.race([pickedPromise, cancelPromise]),\n",
              "    response: {\n",
              "      action: 'starting',\n",
              "    }\n",
              "  };\n",
              "\n",
              "  cancel.remove();\n",
              "\n",
              "  // Disable the input element since further picks are not allowed.\n",
              "  inputElement.disabled = true;\n",
              "\n",
              "  if (!files) {\n",
              "    return {\n",
              "      response: {\n",
              "        action: 'complete',\n",
              "      }\n",
              "    };\n",
              "  }\n",
              "\n",
              "  for (const file of files) {\n",
              "    const li = document.createElement('li');\n",
              "    li.append(span(file.name, {fontWeight: 'bold'}));\n",
              "    li.append(span(\n",
              "        `(${file.type || 'n/a'}) - ${file.size} bytes, ` +\n",
              "        `last modified: ${\n",
              "            file.lastModifiedDate ? file.lastModifiedDate.toLocaleDateString() :\n",
              "                                    'n/a'} - `));\n",
              "    const percent = span('0% done');\n",
              "    li.appendChild(percent);\n",
              "\n",
              "    outputElement.appendChild(li);\n",
              "\n",
              "    const fileDataPromise = new Promise((resolve) => {\n",
              "      const reader = new FileReader();\n",
              "      reader.onload = (e) => {\n",
              "        resolve(e.target.result);\n",
              "      };\n",
              "      reader.readAsArrayBuffer(file);\n",
              "    });\n",
              "    // Wait for the data to be ready.\n",
              "    let fileData = yield {\n",
              "      promise: fileDataPromise,\n",
              "      response: {\n",
              "        action: 'continue',\n",
              "      }\n",
              "    };\n",
              "\n",
              "    // Use a chunked sending to avoid message size limits. See b/62115660.\n",
              "    let position = 0;\n",
              "    do {\n",
              "      const length = Math.min(fileData.byteLength - position, MAX_PAYLOAD_SIZE);\n",
              "      const chunk = new Uint8Array(fileData, position, length);\n",
              "      position += length;\n",
              "\n",
              "      const base64 = btoa(String.fromCharCode.apply(null, chunk));\n",
              "      yield {\n",
              "        response: {\n",
              "          action: 'append',\n",
              "          file: file.name,\n",
              "          data: base64,\n",
              "        },\n",
              "      };\n",
              "\n",
              "      let percentDone = fileData.byteLength === 0 ?\n",
              "          100 :\n",
              "          Math.round((position / fileData.byteLength) * 100);\n",
              "      percent.textContent = `${percentDone}% done`;\n",
              "\n",
              "    } while (position < fileData.byteLength);\n",
              "  }\n",
              "\n",
              "  // All done.\n",
              "  yield {\n",
              "    response: {\n",
              "      action: 'complete',\n",
              "    }\n",
              "  };\n",
              "}\n",
              "\n",
              "scope.google = scope.google || {};\n",
              "scope.google.colab = scope.google.colab || {};\n",
              "scope.google.colab._files = {\n",
              "  _uploadFiles,\n",
              "  _uploadFilesContinue,\n",
              "};\n",
              "})(self);\n",
              "</script> "
            ]
          },
          "metadata": {}
        },
        {
          "output_type": "stream",
          "name": "stdout",
          "text": [
            "Saving kaggle.json to kaggle.json\n",
            "Downloading bluebook-for-bulldozers.zip to /content\n",
            " 99% 48.0M/48.4M [00:02<00:00, 32.9MB/s]\n",
            "100% 48.4M/48.4M [00:02<00:00, 21.9MB/s]\n",
            "Archive:  data/bluebook-for-bulldozers.zip\n",
            "  inflating: data/bbfb/Data Dictionary.xlsx  \n",
            "  inflating: data/bbfb/Machine_Appendix.csv  \n",
            "  inflating: data/bbfb/Test.csv      \n",
            "  inflating: data/bbfb/Train.7z      \n",
            "  inflating: data/bbfb/Train.zip     \n",
            "  inflating: data/bbfb/TrainAndValid.7z  \n",
            "  inflating: data/bbfb/TrainAndValid.csv  \n",
            "  inflating: data/bbfb/TrainAndValid.zip  \n",
            "  inflating: data/bbfb/Valid.7z      \n",
            "  inflating: data/bbfb/Valid.csv     \n",
            "  inflating: data/bbfb/Valid.zip     \n",
            "  inflating: data/bbfb/ValidSolution.csv  \n",
            "  inflating: data/bbfb/median_benchmark.csv  \n",
            "  inflating: data/bbfb/random_forest_benchmark_test.csv  \n",
            "Archive:  data/bbfb/Train.zip\n",
            "  inflating: data/bbfb/Train.csv     \n"
          ]
        }
      ],
      "source": [
        "# install kaggle\n",
        "!pip install -q kaggle\n",
        "\n",
        "# upload the 'Kaggle.json' file\n",
        "from google.colab import files\n",
        "files.upload()\n",
        "\n",
        "# make a kaggle directory and move the json file there\n",
        "!mkdir ~/.kaggle\n",
        "!mv kaggle.json ~/.kaggle\n",
        "\n",
        "# change permissions so only you have read & write access to the credentials\n",
        "!chmod 600 ~/.kaggle/kaggle.json\n",
        "\n",
        "# download dataset from Kaggle\n",
        "!kaggle competitions download -c 'bluebook-for-bulldozers'\n",
        "\n",
        "# make a 'data' directory and move the dataset there\n",
        "!mkdir data\n",
        "!mv bluebook-for-bulldozers.zip data\n",
        "\n",
        "# unzip bulldozers data\n",
        "!unzip data/bluebook-for-bulldozers.zip -d data/bbfb\n",
        "\n",
        "# unzip train data\n",
        "!unzip data/bbfb/Train.zip -d data/bbfb"
      ]
    },
    {
      "cell_type": "markdown",
      "source": [
        "If you open the left-hand-side panel on Colab, you should be able to see the new 'data' folder and the Blue Book for Bulldozers zipped dataset within it (see screenshot below)."
      ],
      "metadata": {
        "id": "rZbsWjf8qAOO"
      }
    },
    {
      "cell_type": "markdown",
      "source": [
        "<img src='https://raw.githubusercontent.com/mathschelsea/learning/main/media/colab_files.png' width='300'>"
      ],
      "metadata": {
        "id": "N8Wf9XAJu_0R"
      }
    },
    {
      "cell_type": "markdown",
      "source": [
        "## 3 - Machine Learning"
      ],
      "metadata": {
        "id": "_en_372OqRKH"
      }
    },
    {
      "cell_type": "markdown",
      "source": [
        "### 3.1 - Looking at the data"
      ],
      "metadata": {
        "id": "egUJFdUPqWoi"
      }
    },
    {
      "cell_type": "markdown",
      "source": [
        "First up, let's have a look at the data. We'll open the 'Train' dataset as it's good practice to never use or look at that the validation or test datasets."
      ],
      "metadata": {
        "id": "0Cb38T3xs5tS"
      }
    },
    {
      "cell_type": "code",
      "source": [
        "# importing the data\n",
        "import pandas as pd\n",
        "\n",
        "df = pd.read_csv('data/bbfb/Train.csv', low_memory=False, parse_dates=['saledate'])"
      ],
      "metadata": {
        "id": "MWNVlyk2qO-Q"
      },
      "execution_count": 2,
      "outputs": []
    },
    {
      "cell_type": "code",
      "source": [
        "# resetting the display options to max rows and columns\n",
        "pd.set_option('display.max_columns', None)\n",
        "pd.set_option('display.max_rows', None)\n",
        "\n",
        "# looking at the first 3 rows of data\n",
        "df.head(3)"
      ],
      "metadata": {
        "colab": {
          "base_uri": "https://localhost:8080/",
          "height": 233
        },
        "id": "bfHZrj-ttyz1",
        "outputId": "8ef313bd-e884-484e-c784-23ed04693ca5"
      },
      "execution_count": 3,
      "outputs": [
        {
          "output_type": "execute_result",
          "data": {
            "text/plain": [
              "   SalesID  SalePrice  MachineID  ModelID  datasource  auctioneerID  YearMade  \\\n",
              "0  1139246      66000     999089     3157         121           3.0      2004   \n",
              "1  1139248      57000     117657       77         121           3.0      1996   \n",
              "2  1139249      10000     434808     7009         121           3.0      2001   \n",
              "\n",
              "   MachineHoursCurrentMeter UsageBand   saledate fiModelDesc fiBaseModel  \\\n",
              "0                      68.0       Low 2006-11-16        521D         521   \n",
              "1                    4640.0       Low 2004-03-26      950FII         950   \n",
              "2                    2838.0      High 2004-02-26         226         226   \n",
              "\n",
              "  fiSecondaryDesc fiModelSeries fiModelDescriptor ProductSize  \\\n",
              "0               D           NaN               NaN         NaN   \n",
              "1               F            II               NaN      Medium   \n",
              "2             NaN           NaN               NaN         NaN   \n",
              "\n",
              "                                  fiProductClassDesc           state  \\\n",
              "0           Wheel Loader - 110.0 to 120.0 Horsepower         Alabama   \n",
              "1           Wheel Loader - 150.0 to 175.0 Horsepower  North Carolina   \n",
              "2  Skid Steer Loader - 1351.0 to 1601.0 Lb Operat...        New York   \n",
              "\n",
              "  ProductGroup    ProductGroupDesc Drive_System   Enclosure  \\\n",
              "0           WL        Wheel Loader          NaN  EROPS w AC   \n",
              "1           WL        Wheel Loader          NaN  EROPS w AC   \n",
              "2          SSL  Skid Steer Loaders          NaN       OROPS   \n",
              "\n",
              "                 Forks Pad_Type         Ride_Control Stick Transmission  \\\n",
              "0  None or Unspecified      NaN  None or Unspecified   NaN          NaN   \n",
              "1  None or Unspecified      NaN  None or Unspecified   NaN          NaN   \n",
              "2  None or Unspecified      NaN                  NaN   NaN          NaN   \n",
              "\n",
              "  Turbocharged Blade_Extension Blade_Width Enclosure_Type Engine_Horsepower  \\\n",
              "0          NaN             NaN         NaN            NaN               NaN   \n",
              "1          NaN             NaN         NaN            NaN               NaN   \n",
              "2          NaN             NaN         NaN            NaN               NaN   \n",
              "\n",
              "  Hydraulics Pushblock Ripper Scarifier Tip_Control            Tire_Size  \\\n",
              "0    2 Valve       NaN    NaN       NaN         NaN  None or Unspecified   \n",
              "1    2 Valve       NaN    NaN       NaN         NaN                 23.5   \n",
              "2  Auxiliary       NaN    NaN       NaN         NaN                  NaN   \n",
              "\n",
              "               Coupler       Coupler_System       Grouser_Tracks  \\\n",
              "0  None or Unspecified                  NaN                  NaN   \n",
              "1  None or Unspecified                  NaN                  NaN   \n",
              "2  None or Unspecified  None or Unspecified  None or Unspecified   \n",
              "\n",
              "  Hydraulics_Flow Track_Type Undercarriage_Pad_Width Stick_Length Thumb  \\\n",
              "0             NaN        NaN                     NaN          NaN   NaN   \n",
              "1             NaN        NaN                     NaN          NaN   NaN   \n",
              "2        Standard        NaN                     NaN          NaN   NaN   \n",
              "\n",
              "  Pattern_Changer Grouser_Type Backhoe_Mounting Blade_Type Travel_Controls  \\\n",
              "0             NaN          NaN              NaN        NaN             NaN   \n",
              "1             NaN          NaN              NaN        NaN             NaN   \n",
              "2             NaN          NaN              NaN        NaN             NaN   \n",
              "\n",
              "  Differential_Type Steering_Controls  \n",
              "0          Standard      Conventional  \n",
              "1          Standard      Conventional  \n",
              "2               NaN               NaN  "
            ],
            "text/html": [
              "\n",
              "  <div id=\"df-cdbe23b4-8c95-4efb-9b85-5232e5b7b4f8\" class=\"colab-df-container\">\n",
              "    <div>\n",
              "<style scoped>\n",
              "    .dataframe tbody tr th:only-of-type {\n",
              "        vertical-align: middle;\n",
              "    }\n",
              "\n",
              "    .dataframe tbody tr th {\n",
              "        vertical-align: top;\n",
              "    }\n",
              "\n",
              "    .dataframe thead th {\n",
              "        text-align: right;\n",
              "    }\n",
              "</style>\n",
              "<table border=\"1\" class=\"dataframe\">\n",
              "  <thead>\n",
              "    <tr style=\"text-align: right;\">\n",
              "      <th></th>\n",
              "      <th>SalesID</th>\n",
              "      <th>SalePrice</th>\n",
              "      <th>MachineID</th>\n",
              "      <th>ModelID</th>\n",
              "      <th>datasource</th>\n",
              "      <th>auctioneerID</th>\n",
              "      <th>YearMade</th>\n",
              "      <th>MachineHoursCurrentMeter</th>\n",
              "      <th>UsageBand</th>\n",
              "      <th>saledate</th>\n",
              "      <th>fiModelDesc</th>\n",
              "      <th>fiBaseModel</th>\n",
              "      <th>fiSecondaryDesc</th>\n",
              "      <th>fiModelSeries</th>\n",
              "      <th>fiModelDescriptor</th>\n",
              "      <th>ProductSize</th>\n",
              "      <th>fiProductClassDesc</th>\n",
              "      <th>state</th>\n",
              "      <th>ProductGroup</th>\n",
              "      <th>ProductGroupDesc</th>\n",
              "      <th>Drive_System</th>\n",
              "      <th>Enclosure</th>\n",
              "      <th>Forks</th>\n",
              "      <th>Pad_Type</th>\n",
              "      <th>Ride_Control</th>\n",
              "      <th>Stick</th>\n",
              "      <th>Transmission</th>\n",
              "      <th>Turbocharged</th>\n",
              "      <th>Blade_Extension</th>\n",
              "      <th>Blade_Width</th>\n",
              "      <th>Enclosure_Type</th>\n",
              "      <th>Engine_Horsepower</th>\n",
              "      <th>Hydraulics</th>\n",
              "      <th>Pushblock</th>\n",
              "      <th>Ripper</th>\n",
              "      <th>Scarifier</th>\n",
              "      <th>Tip_Control</th>\n",
              "      <th>Tire_Size</th>\n",
              "      <th>Coupler</th>\n",
              "      <th>Coupler_System</th>\n",
              "      <th>Grouser_Tracks</th>\n",
              "      <th>Hydraulics_Flow</th>\n",
              "      <th>Track_Type</th>\n",
              "      <th>Undercarriage_Pad_Width</th>\n",
              "      <th>Stick_Length</th>\n",
              "      <th>Thumb</th>\n",
              "      <th>Pattern_Changer</th>\n",
              "      <th>Grouser_Type</th>\n",
              "      <th>Backhoe_Mounting</th>\n",
              "      <th>Blade_Type</th>\n",
              "      <th>Travel_Controls</th>\n",
              "      <th>Differential_Type</th>\n",
              "      <th>Steering_Controls</th>\n",
              "    </tr>\n",
              "  </thead>\n",
              "  <tbody>\n",
              "    <tr>\n",
              "      <th>0</th>\n",
              "      <td>1139246</td>\n",
              "      <td>66000</td>\n",
              "      <td>999089</td>\n",
              "      <td>3157</td>\n",
              "      <td>121</td>\n",
              "      <td>3.0</td>\n",
              "      <td>2004</td>\n",
              "      <td>68.0</td>\n",
              "      <td>Low</td>\n",
              "      <td>2006-11-16</td>\n",
              "      <td>521D</td>\n",
              "      <td>521</td>\n",
              "      <td>D</td>\n",
              "      <td>NaN</td>\n",
              "      <td>NaN</td>\n",
              "      <td>NaN</td>\n",
              "      <td>Wheel Loader - 110.0 to 120.0 Horsepower</td>\n",
              "      <td>Alabama</td>\n",
              "      <td>WL</td>\n",
              "      <td>Wheel Loader</td>\n",
              "      <td>NaN</td>\n",
              "      <td>EROPS w AC</td>\n",
              "      <td>None or Unspecified</td>\n",
              "      <td>NaN</td>\n",
              "      <td>None or Unspecified</td>\n",
              "      <td>NaN</td>\n",
              "      <td>NaN</td>\n",
              "      <td>NaN</td>\n",
              "      <td>NaN</td>\n",
              "      <td>NaN</td>\n",
              "      <td>NaN</td>\n",
              "      <td>NaN</td>\n",
              "      <td>2 Valve</td>\n",
              "      <td>NaN</td>\n",
              "      <td>NaN</td>\n",
              "      <td>NaN</td>\n",
              "      <td>NaN</td>\n",
              "      <td>None or Unspecified</td>\n",
              "      <td>None or Unspecified</td>\n",
              "      <td>NaN</td>\n",
              "      <td>NaN</td>\n",
              "      <td>NaN</td>\n",
              "      <td>NaN</td>\n",
              "      <td>NaN</td>\n",
              "      <td>NaN</td>\n",
              "      <td>NaN</td>\n",
              "      <td>NaN</td>\n",
              "      <td>NaN</td>\n",
              "      <td>NaN</td>\n",
              "      <td>NaN</td>\n",
              "      <td>NaN</td>\n",
              "      <td>Standard</td>\n",
              "      <td>Conventional</td>\n",
              "    </tr>\n",
              "    <tr>\n",
              "      <th>1</th>\n",
              "      <td>1139248</td>\n",
              "      <td>57000</td>\n",
              "      <td>117657</td>\n",
              "      <td>77</td>\n",
              "      <td>121</td>\n",
              "      <td>3.0</td>\n",
              "      <td>1996</td>\n",
              "      <td>4640.0</td>\n",
              "      <td>Low</td>\n",
              "      <td>2004-03-26</td>\n",
              "      <td>950FII</td>\n",
              "      <td>950</td>\n",
              "      <td>F</td>\n",
              "      <td>II</td>\n",
              "      <td>NaN</td>\n",
              "      <td>Medium</td>\n",
              "      <td>Wheel Loader - 150.0 to 175.0 Horsepower</td>\n",
              "      <td>North Carolina</td>\n",
              "      <td>WL</td>\n",
              "      <td>Wheel Loader</td>\n",
              "      <td>NaN</td>\n",
              "      <td>EROPS w AC</td>\n",
              "      <td>None or Unspecified</td>\n",
              "      <td>NaN</td>\n",
              "      <td>None or Unspecified</td>\n",
              "      <td>NaN</td>\n",
              "      <td>NaN</td>\n",
              "      <td>NaN</td>\n",
              "      <td>NaN</td>\n",
              "      <td>NaN</td>\n",
              "      <td>NaN</td>\n",
              "      <td>NaN</td>\n",
              "      <td>2 Valve</td>\n",
              "      <td>NaN</td>\n",
              "      <td>NaN</td>\n",
              "      <td>NaN</td>\n",
              "      <td>NaN</td>\n",
              "      <td>23.5</td>\n",
              "      <td>None or Unspecified</td>\n",
              "      <td>NaN</td>\n",
              "      <td>NaN</td>\n",
              "      <td>NaN</td>\n",
              "      <td>NaN</td>\n",
              "      <td>NaN</td>\n",
              "      <td>NaN</td>\n",
              "      <td>NaN</td>\n",
              "      <td>NaN</td>\n",
              "      <td>NaN</td>\n",
              "      <td>NaN</td>\n",
              "      <td>NaN</td>\n",
              "      <td>NaN</td>\n",
              "      <td>Standard</td>\n",
              "      <td>Conventional</td>\n",
              "    </tr>\n",
              "    <tr>\n",
              "      <th>2</th>\n",
              "      <td>1139249</td>\n",
              "      <td>10000</td>\n",
              "      <td>434808</td>\n",
              "      <td>7009</td>\n",
              "      <td>121</td>\n",
              "      <td>3.0</td>\n",
              "      <td>2001</td>\n",
              "      <td>2838.0</td>\n",
              "      <td>High</td>\n",
              "      <td>2004-02-26</td>\n",
              "      <td>226</td>\n",
              "      <td>226</td>\n",
              "      <td>NaN</td>\n",
              "      <td>NaN</td>\n",
              "      <td>NaN</td>\n",
              "      <td>NaN</td>\n",
              "      <td>Skid Steer Loader - 1351.0 to 1601.0 Lb Operat...</td>\n",
              "      <td>New York</td>\n",
              "      <td>SSL</td>\n",
              "      <td>Skid Steer Loaders</td>\n",
              "      <td>NaN</td>\n",
              "      <td>OROPS</td>\n",
              "      <td>None or Unspecified</td>\n",
              "      <td>NaN</td>\n",
              "      <td>NaN</td>\n",
              "      <td>NaN</td>\n",
              "      <td>NaN</td>\n",
              "      <td>NaN</td>\n",
              "      <td>NaN</td>\n",
              "      <td>NaN</td>\n",
              "      <td>NaN</td>\n",
              "      <td>NaN</td>\n",
              "      <td>Auxiliary</td>\n",
              "      <td>NaN</td>\n",
              "      <td>NaN</td>\n",
              "      <td>NaN</td>\n",
              "      <td>NaN</td>\n",
              "      <td>NaN</td>\n",
              "      <td>None or Unspecified</td>\n",
              "      <td>None or Unspecified</td>\n",
              "      <td>None or Unspecified</td>\n",
              "      <td>Standard</td>\n",
              "      <td>NaN</td>\n",
              "      <td>NaN</td>\n",
              "      <td>NaN</td>\n",
              "      <td>NaN</td>\n",
              "      <td>NaN</td>\n",
              "      <td>NaN</td>\n",
              "      <td>NaN</td>\n",
              "      <td>NaN</td>\n",
              "      <td>NaN</td>\n",
              "      <td>NaN</td>\n",
              "      <td>NaN</td>\n",
              "    </tr>\n",
              "  </tbody>\n",
              "</table>\n",
              "</div>\n",
              "    <div class=\"colab-df-buttons\">\n",
              "\n",
              "  <div class=\"colab-df-container\">\n",
              "    <button class=\"colab-df-convert\" onclick=\"convertToInteractive('df-cdbe23b4-8c95-4efb-9b85-5232e5b7b4f8')\"\n",
              "            title=\"Convert this dataframe to an interactive table.\"\n",
              "            style=\"display:none;\">\n",
              "\n",
              "  <svg xmlns=\"http://www.w3.org/2000/svg\" height=\"24px\" viewBox=\"0 -960 960 960\">\n",
              "    <path d=\"M120-120v-720h720v720H120Zm60-500h600v-160H180v160Zm220 220h160v-160H400v160Zm0 220h160v-160H400v160ZM180-400h160v-160H180v160Zm440 0h160v-160H620v160ZM180-180h160v-160H180v160Zm440 0h160v-160H620v160Z\"/>\n",
              "  </svg>\n",
              "    </button>\n",
              "\n",
              "  <style>\n",
              "    .colab-df-container {\n",
              "      display:flex;\n",
              "      gap: 12px;\n",
              "    }\n",
              "\n",
              "    .colab-df-convert {\n",
              "      background-color: #E8F0FE;\n",
              "      border: none;\n",
              "      border-radius: 50%;\n",
              "      cursor: pointer;\n",
              "      display: none;\n",
              "      fill: #1967D2;\n",
              "      height: 32px;\n",
              "      padding: 0 0 0 0;\n",
              "      width: 32px;\n",
              "    }\n",
              "\n",
              "    .colab-df-convert:hover {\n",
              "      background-color: #E2EBFA;\n",
              "      box-shadow: 0px 1px 2px rgba(60, 64, 67, 0.3), 0px 1px 3px 1px rgba(60, 64, 67, 0.15);\n",
              "      fill: #174EA6;\n",
              "    }\n",
              "\n",
              "    .colab-df-buttons div {\n",
              "      margin-bottom: 4px;\n",
              "    }\n",
              "\n",
              "    [theme=dark] .colab-df-convert {\n",
              "      background-color: #3B4455;\n",
              "      fill: #D2E3FC;\n",
              "    }\n",
              "\n",
              "    [theme=dark] .colab-df-convert:hover {\n",
              "      background-color: #434B5C;\n",
              "      box-shadow: 0px 1px 3px 1px rgba(0, 0, 0, 0.15);\n",
              "      filter: drop-shadow(0px 1px 2px rgba(0, 0, 0, 0.3));\n",
              "      fill: #FFFFFF;\n",
              "    }\n",
              "  </style>\n",
              "\n",
              "    <script>\n",
              "      const buttonEl =\n",
              "        document.querySelector('#df-cdbe23b4-8c95-4efb-9b85-5232e5b7b4f8 button.colab-df-convert');\n",
              "      buttonEl.style.display =\n",
              "        google.colab.kernel.accessAllowed ? 'block' : 'none';\n",
              "\n",
              "      async function convertToInteractive(key) {\n",
              "        const element = document.querySelector('#df-cdbe23b4-8c95-4efb-9b85-5232e5b7b4f8');\n",
              "        const dataTable =\n",
              "          await google.colab.kernel.invokeFunction('convertToInteractive',\n",
              "                                                    [key], {});\n",
              "        if (!dataTable) return;\n",
              "\n",
              "        const docLinkHtml = 'Like what you see? Visit the ' +\n",
              "          '<a target=\"_blank\" href=https://colab.research.google.com/notebooks/data_table.ipynb>data table notebook</a>'\n",
              "          + ' to learn more about interactive tables.';\n",
              "        element.innerHTML = '';\n",
              "        dataTable['output_type'] = 'display_data';\n",
              "        await google.colab.output.renderOutput(dataTable, element);\n",
              "        const docLink = document.createElement('div');\n",
              "        docLink.innerHTML = docLinkHtml;\n",
              "        element.appendChild(docLink);\n",
              "      }\n",
              "    </script>\n",
              "  </div>\n",
              "\n",
              "\n",
              "<div id=\"df-78f94000-a8eb-4192-877e-48930f24c485\">\n",
              "  <button class=\"colab-df-quickchart\" onclick=\"quickchart('df-78f94000-a8eb-4192-877e-48930f24c485')\"\n",
              "            title=\"Suggest charts\"\n",
              "            style=\"display:none;\">\n",
              "\n",
              "<svg xmlns=\"http://www.w3.org/2000/svg\" height=\"24px\"viewBox=\"0 0 24 24\"\n",
              "     width=\"24px\">\n",
              "    <g>\n",
              "        <path d=\"M19 3H5c-1.1 0-2 .9-2 2v14c0 1.1.9 2 2 2h14c1.1 0 2-.9 2-2V5c0-1.1-.9-2-2-2zM9 17H7v-7h2v7zm4 0h-2V7h2v10zm4 0h-2v-4h2v4z\"/>\n",
              "    </g>\n",
              "</svg>\n",
              "  </button>\n",
              "\n",
              "<style>\n",
              "  .colab-df-quickchart {\n",
              "      --bg-color: #E8F0FE;\n",
              "      --fill-color: #1967D2;\n",
              "      --hover-bg-color: #E2EBFA;\n",
              "      --hover-fill-color: #174EA6;\n",
              "      --disabled-fill-color: #AAA;\n",
              "      --disabled-bg-color: #DDD;\n",
              "  }\n",
              "\n",
              "  [theme=dark] .colab-df-quickchart {\n",
              "      --bg-color: #3B4455;\n",
              "      --fill-color: #D2E3FC;\n",
              "      --hover-bg-color: #434B5C;\n",
              "      --hover-fill-color: #FFFFFF;\n",
              "      --disabled-bg-color: #3B4455;\n",
              "      --disabled-fill-color: #666;\n",
              "  }\n",
              "\n",
              "  .colab-df-quickchart {\n",
              "    background-color: var(--bg-color);\n",
              "    border: none;\n",
              "    border-radius: 50%;\n",
              "    cursor: pointer;\n",
              "    display: none;\n",
              "    fill: var(--fill-color);\n",
              "    height: 32px;\n",
              "    padding: 0;\n",
              "    width: 32px;\n",
              "  }\n",
              "\n",
              "  .colab-df-quickchart:hover {\n",
              "    background-color: var(--hover-bg-color);\n",
              "    box-shadow: 0 1px 2px rgba(60, 64, 67, 0.3), 0 1px 3px 1px rgba(60, 64, 67, 0.15);\n",
              "    fill: var(--button-hover-fill-color);\n",
              "  }\n",
              "\n",
              "  .colab-df-quickchart-complete:disabled,\n",
              "  .colab-df-quickchart-complete:disabled:hover {\n",
              "    background-color: var(--disabled-bg-color);\n",
              "    fill: var(--disabled-fill-color);\n",
              "    box-shadow: none;\n",
              "  }\n",
              "\n",
              "  .colab-df-spinner {\n",
              "    border: 2px solid var(--fill-color);\n",
              "    border-color: transparent;\n",
              "    border-bottom-color: var(--fill-color);\n",
              "    animation:\n",
              "      spin 1s steps(1) infinite;\n",
              "  }\n",
              "\n",
              "  @keyframes spin {\n",
              "    0% {\n",
              "      border-color: transparent;\n",
              "      border-bottom-color: var(--fill-color);\n",
              "      border-left-color: var(--fill-color);\n",
              "    }\n",
              "    20% {\n",
              "      border-color: transparent;\n",
              "      border-left-color: var(--fill-color);\n",
              "      border-top-color: var(--fill-color);\n",
              "    }\n",
              "    30% {\n",
              "      border-color: transparent;\n",
              "      border-left-color: var(--fill-color);\n",
              "      border-top-color: var(--fill-color);\n",
              "      border-right-color: var(--fill-color);\n",
              "    }\n",
              "    40% {\n",
              "      border-color: transparent;\n",
              "      border-right-color: var(--fill-color);\n",
              "      border-top-color: var(--fill-color);\n",
              "    }\n",
              "    60% {\n",
              "      border-color: transparent;\n",
              "      border-right-color: var(--fill-color);\n",
              "    }\n",
              "    80% {\n",
              "      border-color: transparent;\n",
              "      border-right-color: var(--fill-color);\n",
              "      border-bottom-color: var(--fill-color);\n",
              "    }\n",
              "    90% {\n",
              "      border-color: transparent;\n",
              "      border-bottom-color: var(--fill-color);\n",
              "    }\n",
              "  }\n",
              "</style>\n",
              "\n",
              "  <script>\n",
              "    async function quickchart(key) {\n",
              "      const quickchartButtonEl =\n",
              "        document.querySelector('#' + key + ' button');\n",
              "      quickchartButtonEl.disabled = true;  // To prevent multiple clicks.\n",
              "      quickchartButtonEl.classList.add('colab-df-spinner');\n",
              "      try {\n",
              "        const charts = await google.colab.kernel.invokeFunction(\n",
              "            'suggestCharts', [key], {});\n",
              "      } catch (error) {\n",
              "        console.error('Error during call to suggestCharts:', error);\n",
              "      }\n",
              "      quickchartButtonEl.classList.remove('colab-df-spinner');\n",
              "      quickchartButtonEl.classList.add('colab-df-quickchart-complete');\n",
              "    }\n",
              "    (() => {\n",
              "      let quickchartButtonEl =\n",
              "        document.querySelector('#df-78f94000-a8eb-4192-877e-48930f24c485 button');\n",
              "      quickchartButtonEl.style.display =\n",
              "        google.colab.kernel.accessAllowed ? 'block' : 'none';\n",
              "    })();\n",
              "  </script>\n",
              "</div>\n",
              "    </div>\n",
              "  </div>\n"
            ],
            "application/vnd.google.colaboratory.intrinsic+json": {
              "type": "dataframe",
              "variable_name": "df"
            }
          },
          "metadata": {},
          "execution_count": 3
        }
      ]
    },
    {
      "cell_type": "code",
      "source": [
        "# looking at some key data characteristics\n",
        "print(f'No. of rows in dataset: {df.shape[0]}')\n",
        "print(f'No. of cols in dataset: {df.shape[1]}')\n",
        "print('')\n",
        "df.info(verbose=True)"
      ],
      "metadata": {
        "colab": {
          "base_uri": "https://localhost:8080/"
        },
        "id": "CKeB1HKkvBsV",
        "outputId": "0b3a7ce4-d01a-44c9-c453-c163e84b013a"
      },
      "execution_count": 4,
      "outputs": [
        {
          "output_type": "stream",
          "name": "stdout",
          "text": [
            "No. of rows in dataset: 401125\n",
            "No. of cols in dataset: 53\n",
            "\n",
            "<class 'pandas.core.frame.DataFrame'>\n",
            "RangeIndex: 401125 entries, 0 to 401124\n",
            "Data columns (total 53 columns):\n",
            " #   Column                    Non-Null Count   Dtype         \n",
            "---  ------                    --------------   -----         \n",
            " 0   SalesID                   401125 non-null  int64         \n",
            " 1   SalePrice                 401125 non-null  int64         \n",
            " 2   MachineID                 401125 non-null  int64         \n",
            " 3   ModelID                   401125 non-null  int64         \n",
            " 4   datasource                401125 non-null  int64         \n",
            " 5   auctioneerID              380989 non-null  float64       \n",
            " 6   YearMade                  401125 non-null  int64         \n",
            " 7   MachineHoursCurrentMeter  142765 non-null  float64       \n",
            " 8   UsageBand                 69639 non-null   object        \n",
            " 9   saledate                  401125 non-null  datetime64[ns]\n",
            " 10  fiModelDesc               401125 non-null  object        \n",
            " 11  fiBaseModel               401125 non-null  object        \n",
            " 12  fiSecondaryDesc           263934 non-null  object        \n",
            " 13  fiModelSeries             56908 non-null   object        \n",
            " 14  fiModelDescriptor         71919 non-null   object        \n",
            " 15  ProductSize               190350 non-null  object        \n",
            " 16  fiProductClassDesc        401125 non-null  object        \n",
            " 17  state                     401125 non-null  object        \n",
            " 18  ProductGroup              401125 non-null  object        \n",
            " 19  ProductGroupDesc          401125 non-null  object        \n",
            " 20  Drive_System              104361 non-null  object        \n",
            " 21  Enclosure                 400800 non-null  object        \n",
            " 22  Forks                     192077 non-null  object        \n",
            " 23  Pad_Type                  79134 non-null   object        \n",
            " 24  Ride_Control              148606 non-null  object        \n",
            " 25  Stick                     79134 non-null   object        \n",
            " 26  Transmission              183230 non-null  object        \n",
            " 27  Turbocharged              79134 non-null   object        \n",
            " 28  Blade_Extension           25219 non-null   object        \n",
            " 29  Blade_Width               25219 non-null   object        \n",
            " 30  Enclosure_Type            25219 non-null   object        \n",
            " 31  Engine_Horsepower         25219 non-null   object        \n",
            " 32  Hydraulics                320570 non-null  object        \n",
            " 33  Pushblock                 25219 non-null   object        \n",
            " 34  Ripper                    104137 non-null  object        \n",
            " 35  Scarifier                 25230 non-null   object        \n",
            " 36  Tip_Control               25219 non-null   object        \n",
            " 37  Tire_Size                 94718 non-null   object        \n",
            " 38  Coupler                   213952 non-null  object        \n",
            " 39  Coupler_System            43458 non-null   object        \n",
            " 40  Grouser_Tracks            43362 non-null   object        \n",
            " 41  Hydraulics_Flow           43362 non-null   object        \n",
            " 42  Track_Type                99153 non-null   object        \n",
            " 43  Undercarriage_Pad_Width   99872 non-null   object        \n",
            " 44  Stick_Length              99218 non-null   object        \n",
            " 45  Thumb                     99288 non-null   object        \n",
            " 46  Pattern_Changer           99218 non-null   object        \n",
            " 47  Grouser_Type              99153 non-null   object        \n",
            " 48  Backhoe_Mounting          78672 non-null   object        \n",
            " 49  Blade_Type                79833 non-null   object        \n",
            " 50  Travel_Controls           79834 non-null   object        \n",
            " 51  Differential_Type         69411 non-null   object        \n",
            " 52  Steering_Controls         69369 non-null   object        \n",
            "dtypes: datetime64[ns](1), float64(2), int64(6), object(44)\n",
            "memory usage: 162.2+ MB\n"
          ]
        }
      ]
    },
    {
      "cell_type": "markdown",
      "source": [
        "### 3.2 - Editing the data"
      ],
      "metadata": {
        "id": "CPseT-tYqZ-4"
      }
    },
    {
      "cell_type": "markdown",
      "source": [
        "Our data contains numerical, object and datatime datatypes. Before training a random forest (a type of machine learning model) we need to make sure all the features (independent variables) are numerical. We then need to address any columns that have missing values."
      ],
      "metadata": {
        "id": "qB-irRl2z_T9"
      }
    },
    {
      "cell_type": "markdown",
      "source": [
        "#### 3.2.1 - Missing Values"
      ],
      "metadata": {
        "id": "2pZbAiXW3CoN"
      }
    },
    {
      "cell_type": "code",
      "source": [
        "# check percentage missing for each column\n",
        "df.isnull().sum().sort_values(ascending=False)/len(df)"
      ],
      "metadata": {
        "colab": {
          "base_uri": "https://localhost:8080/"
        },
        "id": "Y5yiy4gG28lK",
        "outputId": "76018371-efea-4435-a02f-6c9625a9f325"
      },
      "execution_count": 5,
      "outputs": [
        {
          "output_type": "execute_result",
          "data": {
            "text/plain": [
              "Engine_Horsepower           0.937129\n",
              "Pushblock                   0.937129\n",
              "Enclosure_Type              0.937129\n",
              "Blade_Width                 0.937129\n",
              "Blade_Extension             0.937129\n",
              "Tip_Control                 0.937129\n",
              "Scarifier                   0.937102\n",
              "Grouser_Tracks              0.891899\n",
              "Hydraulics_Flow             0.891899\n",
              "Coupler_System              0.891660\n",
              "fiModelSeries               0.858129\n",
              "Steering_Controls           0.827064\n",
              "Differential_Type           0.826959\n",
              "UsageBand                   0.826391\n",
              "fiModelDescriptor           0.820707\n",
              "Backhoe_Mounting            0.803872\n",
              "Stick                       0.802720\n",
              "Turbocharged                0.802720\n",
              "Pad_Type                    0.802720\n",
              "Blade_Type                  0.800977\n",
              "Travel_Controls             0.800975\n",
              "Tire_Size                   0.763869\n",
              "Track_Type                  0.752813\n",
              "Grouser_Type                0.752813\n",
              "Pattern_Changer             0.752651\n",
              "Stick_Length                0.752651\n",
              "Thumb                       0.752476\n",
              "Undercarriage_Pad_Width     0.751020\n",
              "Ripper                      0.740388\n",
              "Drive_System                0.739829\n",
              "MachineHoursCurrentMeter    0.644089\n",
              "Ride_Control                0.629527\n",
              "Transmission                0.543210\n",
              "ProductSize                 0.525460\n",
              "Forks                       0.521154\n",
              "Coupler                     0.466620\n",
              "fiSecondaryDesc             0.342016\n",
              "Hydraulics                  0.200823\n",
              "auctioneerID                0.050199\n",
              "Enclosure                   0.000810\n",
              "ProductGroupDesc            0.000000\n",
              "ProductGroup                0.000000\n",
              "state                       0.000000\n",
              "fiProductClassDesc          0.000000\n",
              "SalePrice                   0.000000\n",
              "fiBaseModel                 0.000000\n",
              "fiModelDesc                 0.000000\n",
              "saledate                    0.000000\n",
              "YearMade                    0.000000\n",
              "datasource                  0.000000\n",
              "ModelID                     0.000000\n",
              "MachineID                   0.000000\n",
              "SalesID                     0.000000\n",
              "dtype: float64"
            ]
          },
          "metadata": {},
          "execution_count": 5
        }
      ]
    },
    {
      "cell_type": "code",
      "source": [
        "# for object features, impute missing values with 'missing'\n",
        "from pandas.api.types import is_string_dtype, is_object_dtype\n",
        "\n",
        "for c in df.columns:\n",
        "    if is_string_dtype(df[c]) or is_object_dtype(df[c]):\n",
        "        df[c].fillna('missing', inplace=True)"
      ],
      "metadata": {
        "id": "Y7FBKrli3PUT"
      },
      "execution_count": 6,
      "outputs": []
    },
    {
      "cell_type": "code",
      "source": [
        "# re-run the cell above to check the missing list again\n",
        "# only two more columns with missing data\n",
        "# both are numerical\n",
        "\n",
        "# machinehourscurrentmeter - impute with the mean\n",
        "mean = df.MachineHoursCurrentMeter.mean()\n",
        "df.MachineHoursCurrentMeter.fillna(mean, inplace=True)\n",
        "\n",
        "# auctioneerid - impute with most common level values\n",
        "common = df.auctioneerID.value_counts().sort_values(ascending=False)\n",
        "df.auctioneerID.fillna(common.index[0], inplace=True)"
      ],
      "metadata": {
        "id": "wSNCPxt73uNb"
      },
      "execution_count": 7,
      "outputs": []
    },
    {
      "cell_type": "markdown",
      "source": [
        "#### 3.2.2 - Datetime features"
      ],
      "metadata": {
        "id": "DtIgHCu_2c0u"
      }
    },
    {
      "cell_type": "code",
      "source": [
        "# extracting numerical information from the datetime features\n",
        "attr = ['Year', 'Month', 'Day', 'Dayofweek', 'Dayofyear', 'Quarter']\n",
        "\n",
        "for n in attr:\n",
        "  df['saledate_' + n.lower()] = getattr(df['saledate'].dt, n.lower())"
      ],
      "metadata": {
        "id": "xhzyqIriqczn"
      },
      "execution_count": 8,
      "outputs": []
    },
    {
      "cell_type": "code",
      "source": [
        "# quick check\n",
        "df[['saledate_year', 'saledate_month', 'saledate_day',\n",
        "    'saledate_dayofweek', 'saledate_dayofyear', 'saledate_quarter']].head(5)"
      ],
      "metadata": {
        "colab": {
          "base_uri": "https://localhost:8080/",
          "height": 206
        },
        "id": "WCKXmPzH1gy5",
        "outputId": "1a3571b4-8c11-4f23-8e64-931856d43b32"
      },
      "execution_count": 9,
      "outputs": [
        {
          "output_type": "execute_result",
          "data": {
            "text/plain": [
              "   saledate_year  saledate_month  saledate_day  saledate_dayofweek  \\\n",
              "0           2006              11            16                   3   \n",
              "1           2004               3            26                   4   \n",
              "2           2004               2            26                   3   \n",
              "3           2011               5            19                   3   \n",
              "4           2009               7            23                   3   \n",
              "\n",
              "   saledate_dayofyear  saledate_quarter  \n",
              "0                 320                 4  \n",
              "1                  86                 1  \n",
              "2                  57                 1  \n",
              "3                 139                 2  \n",
              "4                 204                 3  "
            ],
            "text/html": [
              "\n",
              "  <div id=\"df-19b247ef-b801-45d6-8e4b-de00e1ef45c1\" class=\"colab-df-container\">\n",
              "    <div>\n",
              "<style scoped>\n",
              "    .dataframe tbody tr th:only-of-type {\n",
              "        vertical-align: middle;\n",
              "    }\n",
              "\n",
              "    .dataframe tbody tr th {\n",
              "        vertical-align: top;\n",
              "    }\n",
              "\n",
              "    .dataframe thead th {\n",
              "        text-align: right;\n",
              "    }\n",
              "</style>\n",
              "<table border=\"1\" class=\"dataframe\">\n",
              "  <thead>\n",
              "    <tr style=\"text-align: right;\">\n",
              "      <th></th>\n",
              "      <th>saledate_year</th>\n",
              "      <th>saledate_month</th>\n",
              "      <th>saledate_day</th>\n",
              "      <th>saledate_dayofweek</th>\n",
              "      <th>saledate_dayofyear</th>\n",
              "      <th>saledate_quarter</th>\n",
              "    </tr>\n",
              "  </thead>\n",
              "  <tbody>\n",
              "    <tr>\n",
              "      <th>0</th>\n",
              "      <td>2006</td>\n",
              "      <td>11</td>\n",
              "      <td>16</td>\n",
              "      <td>3</td>\n",
              "      <td>320</td>\n",
              "      <td>4</td>\n",
              "    </tr>\n",
              "    <tr>\n",
              "      <th>1</th>\n",
              "      <td>2004</td>\n",
              "      <td>3</td>\n",
              "      <td>26</td>\n",
              "      <td>4</td>\n",
              "      <td>86</td>\n",
              "      <td>1</td>\n",
              "    </tr>\n",
              "    <tr>\n",
              "      <th>2</th>\n",
              "      <td>2004</td>\n",
              "      <td>2</td>\n",
              "      <td>26</td>\n",
              "      <td>3</td>\n",
              "      <td>57</td>\n",
              "      <td>1</td>\n",
              "    </tr>\n",
              "    <tr>\n",
              "      <th>3</th>\n",
              "      <td>2011</td>\n",
              "      <td>5</td>\n",
              "      <td>19</td>\n",
              "      <td>3</td>\n",
              "      <td>139</td>\n",
              "      <td>2</td>\n",
              "    </tr>\n",
              "    <tr>\n",
              "      <th>4</th>\n",
              "      <td>2009</td>\n",
              "      <td>7</td>\n",
              "      <td>23</td>\n",
              "      <td>3</td>\n",
              "      <td>204</td>\n",
              "      <td>3</td>\n",
              "    </tr>\n",
              "  </tbody>\n",
              "</table>\n",
              "</div>\n",
              "    <div class=\"colab-df-buttons\">\n",
              "\n",
              "  <div class=\"colab-df-container\">\n",
              "    <button class=\"colab-df-convert\" onclick=\"convertToInteractive('df-19b247ef-b801-45d6-8e4b-de00e1ef45c1')\"\n",
              "            title=\"Convert this dataframe to an interactive table.\"\n",
              "            style=\"display:none;\">\n",
              "\n",
              "  <svg xmlns=\"http://www.w3.org/2000/svg\" height=\"24px\" viewBox=\"0 -960 960 960\">\n",
              "    <path d=\"M120-120v-720h720v720H120Zm60-500h600v-160H180v160Zm220 220h160v-160H400v160Zm0 220h160v-160H400v160ZM180-400h160v-160H180v160Zm440 0h160v-160H620v160ZM180-180h160v-160H180v160Zm440 0h160v-160H620v160Z\"/>\n",
              "  </svg>\n",
              "    </button>\n",
              "\n",
              "  <style>\n",
              "    .colab-df-container {\n",
              "      display:flex;\n",
              "      gap: 12px;\n",
              "    }\n",
              "\n",
              "    .colab-df-convert {\n",
              "      background-color: #E8F0FE;\n",
              "      border: none;\n",
              "      border-radius: 50%;\n",
              "      cursor: pointer;\n",
              "      display: none;\n",
              "      fill: #1967D2;\n",
              "      height: 32px;\n",
              "      padding: 0 0 0 0;\n",
              "      width: 32px;\n",
              "    }\n",
              "\n",
              "    .colab-df-convert:hover {\n",
              "      background-color: #E2EBFA;\n",
              "      box-shadow: 0px 1px 2px rgba(60, 64, 67, 0.3), 0px 1px 3px 1px rgba(60, 64, 67, 0.15);\n",
              "      fill: #174EA6;\n",
              "    }\n",
              "\n",
              "    .colab-df-buttons div {\n",
              "      margin-bottom: 4px;\n",
              "    }\n",
              "\n",
              "    [theme=dark] .colab-df-convert {\n",
              "      background-color: #3B4455;\n",
              "      fill: #D2E3FC;\n",
              "    }\n",
              "\n",
              "    [theme=dark] .colab-df-convert:hover {\n",
              "      background-color: #434B5C;\n",
              "      box-shadow: 0px 1px 3px 1px rgba(0, 0, 0, 0.15);\n",
              "      filter: drop-shadow(0px 1px 2px rgba(0, 0, 0, 0.3));\n",
              "      fill: #FFFFFF;\n",
              "    }\n",
              "  </style>\n",
              "\n",
              "    <script>\n",
              "      const buttonEl =\n",
              "        document.querySelector('#df-19b247ef-b801-45d6-8e4b-de00e1ef45c1 button.colab-df-convert');\n",
              "      buttonEl.style.display =\n",
              "        google.colab.kernel.accessAllowed ? 'block' : 'none';\n",
              "\n",
              "      async function convertToInteractive(key) {\n",
              "        const element = document.querySelector('#df-19b247ef-b801-45d6-8e4b-de00e1ef45c1');\n",
              "        const dataTable =\n",
              "          await google.colab.kernel.invokeFunction('convertToInteractive',\n",
              "                                                    [key], {});\n",
              "        if (!dataTable) return;\n",
              "\n",
              "        const docLinkHtml = 'Like what you see? Visit the ' +\n",
              "          '<a target=\"_blank\" href=https://colab.research.google.com/notebooks/data_table.ipynb>data table notebook</a>'\n",
              "          + ' to learn more about interactive tables.';\n",
              "        element.innerHTML = '';\n",
              "        dataTable['output_type'] = 'display_data';\n",
              "        await google.colab.output.renderOutput(dataTable, element);\n",
              "        const docLink = document.createElement('div');\n",
              "        docLink.innerHTML = docLinkHtml;\n",
              "        element.appendChild(docLink);\n",
              "      }\n",
              "    </script>\n",
              "  </div>\n",
              "\n",
              "\n",
              "<div id=\"df-36d05b4e-f48c-4fd1-b248-9dd8f0284b1f\">\n",
              "  <button class=\"colab-df-quickchart\" onclick=\"quickchart('df-36d05b4e-f48c-4fd1-b248-9dd8f0284b1f')\"\n",
              "            title=\"Suggest charts\"\n",
              "            style=\"display:none;\">\n",
              "\n",
              "<svg xmlns=\"http://www.w3.org/2000/svg\" height=\"24px\"viewBox=\"0 0 24 24\"\n",
              "     width=\"24px\">\n",
              "    <g>\n",
              "        <path d=\"M19 3H5c-1.1 0-2 .9-2 2v14c0 1.1.9 2 2 2h14c1.1 0 2-.9 2-2V5c0-1.1-.9-2-2-2zM9 17H7v-7h2v7zm4 0h-2V7h2v10zm4 0h-2v-4h2v4z\"/>\n",
              "    </g>\n",
              "</svg>\n",
              "  </button>\n",
              "\n",
              "<style>\n",
              "  .colab-df-quickchart {\n",
              "      --bg-color: #E8F0FE;\n",
              "      --fill-color: #1967D2;\n",
              "      --hover-bg-color: #E2EBFA;\n",
              "      --hover-fill-color: #174EA6;\n",
              "      --disabled-fill-color: #AAA;\n",
              "      --disabled-bg-color: #DDD;\n",
              "  }\n",
              "\n",
              "  [theme=dark] .colab-df-quickchart {\n",
              "      --bg-color: #3B4455;\n",
              "      --fill-color: #D2E3FC;\n",
              "      --hover-bg-color: #434B5C;\n",
              "      --hover-fill-color: #FFFFFF;\n",
              "      --disabled-bg-color: #3B4455;\n",
              "      --disabled-fill-color: #666;\n",
              "  }\n",
              "\n",
              "  .colab-df-quickchart {\n",
              "    background-color: var(--bg-color);\n",
              "    border: none;\n",
              "    border-radius: 50%;\n",
              "    cursor: pointer;\n",
              "    display: none;\n",
              "    fill: var(--fill-color);\n",
              "    height: 32px;\n",
              "    padding: 0;\n",
              "    width: 32px;\n",
              "  }\n",
              "\n",
              "  .colab-df-quickchart:hover {\n",
              "    background-color: var(--hover-bg-color);\n",
              "    box-shadow: 0 1px 2px rgba(60, 64, 67, 0.3), 0 1px 3px 1px rgba(60, 64, 67, 0.15);\n",
              "    fill: var(--button-hover-fill-color);\n",
              "  }\n",
              "\n",
              "  .colab-df-quickchart-complete:disabled,\n",
              "  .colab-df-quickchart-complete:disabled:hover {\n",
              "    background-color: var(--disabled-bg-color);\n",
              "    fill: var(--disabled-fill-color);\n",
              "    box-shadow: none;\n",
              "  }\n",
              "\n",
              "  .colab-df-spinner {\n",
              "    border: 2px solid var(--fill-color);\n",
              "    border-color: transparent;\n",
              "    border-bottom-color: var(--fill-color);\n",
              "    animation:\n",
              "      spin 1s steps(1) infinite;\n",
              "  }\n",
              "\n",
              "  @keyframes spin {\n",
              "    0% {\n",
              "      border-color: transparent;\n",
              "      border-bottom-color: var(--fill-color);\n",
              "      border-left-color: var(--fill-color);\n",
              "    }\n",
              "    20% {\n",
              "      border-color: transparent;\n",
              "      border-left-color: var(--fill-color);\n",
              "      border-top-color: var(--fill-color);\n",
              "    }\n",
              "    30% {\n",
              "      border-color: transparent;\n",
              "      border-left-color: var(--fill-color);\n",
              "      border-top-color: var(--fill-color);\n",
              "      border-right-color: var(--fill-color);\n",
              "    }\n",
              "    40% {\n",
              "      border-color: transparent;\n",
              "      border-right-color: var(--fill-color);\n",
              "      border-top-color: var(--fill-color);\n",
              "    }\n",
              "    60% {\n",
              "      border-color: transparent;\n",
              "      border-right-color: var(--fill-color);\n",
              "    }\n",
              "    80% {\n",
              "      border-color: transparent;\n",
              "      border-right-color: var(--fill-color);\n",
              "      border-bottom-color: var(--fill-color);\n",
              "    }\n",
              "    90% {\n",
              "      border-color: transparent;\n",
              "      border-bottom-color: var(--fill-color);\n",
              "    }\n",
              "  }\n",
              "</style>\n",
              "\n",
              "  <script>\n",
              "    async function quickchart(key) {\n",
              "      const quickchartButtonEl =\n",
              "        document.querySelector('#' + key + ' button');\n",
              "      quickchartButtonEl.disabled = true;  // To prevent multiple clicks.\n",
              "      quickchartButtonEl.classList.add('colab-df-spinner');\n",
              "      try {\n",
              "        const charts = await google.colab.kernel.invokeFunction(\n",
              "            'suggestCharts', [key], {});\n",
              "      } catch (error) {\n",
              "        console.error('Error during call to suggestCharts:', error);\n",
              "      }\n",
              "      quickchartButtonEl.classList.remove('colab-df-spinner');\n",
              "      quickchartButtonEl.classList.add('colab-df-quickchart-complete');\n",
              "    }\n",
              "    (() => {\n",
              "      let quickchartButtonEl =\n",
              "        document.querySelector('#df-36d05b4e-f48c-4fd1-b248-9dd8f0284b1f button');\n",
              "      quickchartButtonEl.style.display =\n",
              "        google.colab.kernel.accessAllowed ? 'block' : 'none';\n",
              "    })();\n",
              "  </script>\n",
              "</div>\n",
              "    </div>\n",
              "  </div>\n"
            ],
            "application/vnd.google.colaboratory.intrinsic+json": {
              "type": "dataframe",
              "summary": "{\n  \"name\": \"    'saledate_dayofweek', 'saledate_dayofyear', 'saledate_quarter']]\",\n  \"rows\": 5,\n  \"fields\": [\n    {\n      \"column\": \"saledate_year\",\n      \"properties\": {\n        \"dtype\": \"int32\",\n        \"num_unique_values\": 4,\n        \"samples\": [\n          2004,\n          2009,\n          2006\n        ],\n        \"semantic_type\": \"\",\n        \"description\": \"\"\n      }\n    },\n    {\n      \"column\": \"saledate_month\",\n      \"properties\": {\n        \"dtype\": \"int32\",\n        \"num_unique_values\": 5,\n        \"samples\": [\n          3,\n          7,\n          2\n        ],\n        \"semantic_type\": \"\",\n        \"description\": \"\"\n      }\n    },\n    {\n      \"column\": \"saledate_day\",\n      \"properties\": {\n        \"dtype\": \"int32\",\n        \"num_unique_values\": 4,\n        \"samples\": [\n          26,\n          23,\n          16\n        ],\n        \"semantic_type\": \"\",\n        \"description\": \"\"\n      }\n    },\n    {\n      \"column\": \"saledate_dayofweek\",\n      \"properties\": {\n        \"dtype\": \"int32\",\n        \"num_unique_values\": 2,\n        \"samples\": [\n          4,\n          3\n        ],\n        \"semantic_type\": \"\",\n        \"description\": \"\"\n      }\n    },\n    {\n      \"column\": \"saledate_dayofyear\",\n      \"properties\": {\n        \"dtype\": \"int32\",\n        \"num_unique_values\": 5,\n        \"samples\": [\n          86,\n          204\n        ],\n        \"semantic_type\": \"\",\n        \"description\": \"\"\n      }\n    },\n    {\n      \"column\": \"saledate_quarter\",\n      \"properties\": {\n        \"dtype\": \"int32\",\n        \"num_unique_values\": 4,\n        \"samples\": [\n          1,\n          3\n        ],\n        \"semantic_type\": \"\",\n        \"description\": \"\"\n      }\n    }\n  ]\n}"
            }
          },
          "metadata": {},
          "execution_count": 9
        }
      ]
    },
    {
      "cell_type": "markdown",
      "source": [
        "#### 3.2.2 - Object Features"
      ],
      "metadata": {
        "id": "pW1LTVG22hio"
      }
    },
    {
      "cell_type": "code",
      "source": [
        "# converting all object features to categorical features\n",
        "\n",
        "for n,c in df.items():\n",
        "  if is_string_dtype(c): df[n] = c.astype('category').cat.as_ordered()\n",
        "  if is_object_dtype(c): df[n] = c.astype('category').cat.as_ordered()"
      ],
      "metadata": {
        "id": "G3Re99M_2TX2"
      },
      "execution_count": 10,
      "outputs": []
    },
    {
      "cell_type": "code",
      "source": [
        "# quick spot check\n",
        "print('Categories:')\n",
        "print(df.Coupler_System.cat.categories)\n",
        "print()\n",
        "print('Value Counts:')\n",
        "print(df.Coupler_System.value_counts(dropna=False))"
      ],
      "metadata": {
        "colab": {
          "base_uri": "https://localhost:8080/"
        },
        "id": "v7KVc7HA5NmU",
        "outputId": "bff05412-c8a1-4a62-9a11-4a1780b30605"
      },
      "execution_count": 11,
      "outputs": [
        {
          "output_type": "stream",
          "name": "stdout",
          "text": [
            "Categories:\n",
            "Index(['None or Unspecified', 'Yes', 'missing'], dtype='object')\n",
            "\n",
            "Value Counts:\n",
            "Coupler_System\n",
            "missing                357667\n",
            "None or Unspecified     40430\n",
            "Yes                      3028\n",
            "Name: count, dtype: int64\n"
          ]
        }
      ]
    },
    {
      "cell_type": "code",
      "source": [
        "# now converting these categories to their equivalent code values\n",
        "from pandas.api.types import is_numeric_dtype\n",
        "\n",
        "for c in df.columns:\n",
        "  if not is_numeric_dtype(c):\n",
        "      df[c] = pd.Categorical(df[c]).codes"
      ],
      "metadata": {
        "id": "fQVcbrGD5suc"
      },
      "execution_count": 12,
      "outputs": []
    },
    {
      "cell_type": "code",
      "source": [
        "# quick spot check\n",
        "print('Value Counts:')\n",
        "df.Coupler_System.value_counts(dropna=False).sort_index()"
      ],
      "metadata": {
        "colab": {
          "base_uri": "https://localhost:8080/"
        },
        "id": "cLB0wN4z6g1x",
        "outputId": "52eabd3d-62d9-4b73-8466-8696b51fc01a"
      },
      "execution_count": 13,
      "outputs": [
        {
          "output_type": "stream",
          "name": "stdout",
          "text": [
            "Value Counts:\n"
          ]
        },
        {
          "output_type": "execute_result",
          "data": {
            "text/plain": [
              "Coupler_System\n",
              "0     40430\n",
              "1      3028\n",
              "2    357667\n",
              "Name: count, dtype: int64"
            ]
          },
          "metadata": {},
          "execution_count": 13
        }
      ]
    },
    {
      "cell_type": "markdown",
      "source": [
        "#### 3.2.3 - Drop Columns"
      ],
      "metadata": {
        "id": "EzjRIdhn898J"
      }
    },
    {
      "cell_type": "markdown",
      "source": [
        "Time to drop any columns that we don't want or need."
      ],
      "metadata": {
        "id": "KUgn2eR-LCi1"
      }
    },
    {
      "cell_type": "code",
      "source": [
        "# looking for columns with nearly all unique levels (will drop these)\n",
        "print('Percentage Unique')\n",
        "for c in df.columns:\n",
        "  print(f'{c}:', '{:.1%}'.format(df[c].nunique()/len(df)))"
      ],
      "metadata": {
        "colab": {
          "base_uri": "https://localhost:8080/"
        },
        "id": "n2JevPvqNf4B",
        "outputId": "fed40582-7f44-47ed-dac4-d5555ce874f2"
      },
      "execution_count": 21,
      "outputs": [
        {
          "output_type": "stream",
          "name": "stdout",
          "text": [
            "Percentage Unique\n",
            "SalesID: 100.0%\n",
            "SalePrice: 0.2%\n",
            "MachineID: 85.0%\n",
            "ModelID: 1.3%\n",
            "datasource: 0.0%\n",
            "auctioneerID: 0.0%\n",
            "YearMade: 0.0%\n",
            "MachineHoursCurrentMeter: 3.8%\n",
            "UsageBand: 0.0%\n",
            "saledate: 1.0%\n",
            "fiModelDesc: 1.2%\n",
            "fiBaseModel: 0.5%\n",
            "fiSecondaryDesc: 0.0%\n",
            "fiModelSeries: 0.0%\n",
            "fiModelDescriptor: 0.0%\n",
            "ProductSize: 0.0%\n",
            "fiProductClassDesc: 0.0%\n",
            "state: 0.0%\n",
            "ProductGroup: 0.0%\n",
            "ProductGroupDesc: 0.0%\n",
            "Drive_System: 0.0%\n",
            "Enclosure: 0.0%\n",
            "Forks: 0.0%\n",
            "Pad_Type: 0.0%\n",
            "Ride_Control: 0.0%\n",
            "Stick: 0.0%\n",
            "Transmission: 0.0%\n",
            "Turbocharged: 0.0%\n",
            "Blade_Extension: 0.0%\n",
            "Blade_Width: 0.0%\n",
            "Enclosure_Type: 0.0%\n",
            "Engine_Horsepower: 0.0%\n",
            "Hydraulics: 0.0%\n",
            "Pushblock: 0.0%\n",
            "Ripper: 0.0%\n",
            "Scarifier: 0.0%\n",
            "Tip_Control: 0.0%\n",
            "Tire_Size: 0.0%\n",
            "Coupler: 0.0%\n",
            "Coupler_System: 0.0%\n",
            "Grouser_Tracks: 0.0%\n",
            "Hydraulics_Flow: 0.0%\n",
            "Track_Type: 0.0%\n",
            "Undercarriage_Pad_Width: 0.0%\n",
            "Stick_Length: 0.0%\n",
            "Thumb: 0.0%\n",
            "Pattern_Changer: 0.0%\n",
            "Grouser_Type: 0.0%\n",
            "Backhoe_Mounting: 0.0%\n",
            "Blade_Type: 0.0%\n",
            "Travel_Controls: 0.0%\n",
            "Differential_Type: 0.0%\n",
            "Steering_Controls: 0.0%\n",
            "saledate_year: 0.0%\n",
            "saledate_month: 0.0%\n",
            "saledate_day: 0.0%\n",
            "saledate_dayofweek: 0.0%\n",
            "saledate_dayofyear: 0.1%\n",
            "saledate_quarter: 0.0%\n"
          ]
        }
      ]
    },
    {
      "cell_type": "code",
      "source": [
        "df.drop(['SalesID', 'saledate', 'MachineID'], axis=1, inplace=True)"
      ],
      "metadata": {
        "id": "EPHdNbku81X_"
      },
      "execution_count": 22,
      "outputs": []
    },
    {
      "cell_type": "markdown",
      "source": [
        "### 3.3 - Model Training"
      ],
      "metadata": {
        "id": "69-WY8G9qdg6"
      }
    },
    {
      "cell_type": "markdown",
      "source": [
        "#### 3.3.1 - Data Split"
      ],
      "metadata": {
        "id": "O7kcg2OM9NCk"
      }
    },
    {
      "cell_type": "markdown",
      "source": [
        "We need to split the data into a train and test split so we can train the model on the train split and then measure it's performance on the test split."
      ],
      "metadata": {
        "id": "oqRPbGfY9QQF"
      }
    },
    {
      "cell_type": "code",
      "source": [
        "# defining sizes\n",
        "test_size = 12000\n",
        "train_size = len(df) - test_size\n",
        "\n",
        "# splitting data\n",
        "def split_vals(a,n):\n",
        "  return a[:n].copy(), a[n:].copy()\n",
        "\n",
        "train_df, test_df = split_vals(df, train_size)\n",
        "\n",
        "# checking sizes\n",
        "train_df.shape, test_df.shape"
      ],
      "metadata": {
        "id": "O8kbLsNZ9Y8s"
      },
      "execution_count": null,
      "outputs": []
    },
    {
      "cell_type": "markdown",
      "source": [
        "#### 3.3.2 - Training"
      ],
      "metadata": {
        "id": "yWe-6w9C9_eX"
      }
    },
    {
      "cell_type": "code",
      "source": [
        "# train a random forest\n",
        "from sklearn.ensemble import RandomForestRegressor\n",
        "\n",
        "m = RandomForestRegressor(n_jobs=-1)\n",
        "m.fit(df_train.drop('SalePrice', axis=1), df_train.SalePrice)"
      ],
      "metadata": {
        "id": "iFD77WWlqhGg",
        "colab": {
          "base_uri": "https://localhost:8080/",
          "height": 75
        },
        "outputId": "ebea785c-e3bb-4924-ed59-2013b18ca507"
      },
      "execution_count": 23,
      "outputs": [
        {
          "output_type": "execute_result",
          "data": {
            "text/plain": [
              "RandomForestRegressor(n_jobs=-1)"
            ],
            "text/html": [
              "<style>#sk-container-id-1 {color: black;background-color: white;}#sk-container-id-1 pre{padding: 0;}#sk-container-id-1 div.sk-toggleable {background-color: white;}#sk-container-id-1 label.sk-toggleable__label {cursor: pointer;display: block;width: 100%;margin-bottom: 0;padding: 0.3em;box-sizing: border-box;text-align: center;}#sk-container-id-1 label.sk-toggleable__label-arrow:before {content: \"▸\";float: left;margin-right: 0.25em;color: #696969;}#sk-container-id-1 label.sk-toggleable__label-arrow:hover:before {color: black;}#sk-container-id-1 div.sk-estimator:hover label.sk-toggleable__label-arrow:before {color: black;}#sk-container-id-1 div.sk-toggleable__content {max-height: 0;max-width: 0;overflow: hidden;text-align: left;background-color: #f0f8ff;}#sk-container-id-1 div.sk-toggleable__content pre {margin: 0.2em;color: black;border-radius: 0.25em;background-color: #f0f8ff;}#sk-container-id-1 input.sk-toggleable__control:checked~div.sk-toggleable__content {max-height: 200px;max-width: 100%;overflow: auto;}#sk-container-id-1 input.sk-toggleable__control:checked~label.sk-toggleable__label-arrow:before {content: \"▾\";}#sk-container-id-1 div.sk-estimator input.sk-toggleable__control:checked~label.sk-toggleable__label {background-color: #d4ebff;}#sk-container-id-1 div.sk-label input.sk-toggleable__control:checked~label.sk-toggleable__label {background-color: #d4ebff;}#sk-container-id-1 input.sk-hidden--visually {border: 0;clip: rect(1px 1px 1px 1px);clip: rect(1px, 1px, 1px, 1px);height: 1px;margin: -1px;overflow: hidden;padding: 0;position: absolute;width: 1px;}#sk-container-id-1 div.sk-estimator {font-family: monospace;background-color: #f0f8ff;border: 1px dotted black;border-radius: 0.25em;box-sizing: border-box;margin-bottom: 0.5em;}#sk-container-id-1 div.sk-estimator:hover {background-color: #d4ebff;}#sk-container-id-1 div.sk-parallel-item::after {content: \"\";width: 100%;border-bottom: 1px solid gray;flex-grow: 1;}#sk-container-id-1 div.sk-label:hover label.sk-toggleable__label {background-color: #d4ebff;}#sk-container-id-1 div.sk-serial::before {content: \"\";position: absolute;border-left: 1px solid gray;box-sizing: border-box;top: 0;bottom: 0;left: 50%;z-index: 0;}#sk-container-id-1 div.sk-serial {display: flex;flex-direction: column;align-items: center;background-color: white;padding-right: 0.2em;padding-left: 0.2em;position: relative;}#sk-container-id-1 div.sk-item {position: relative;z-index: 1;}#sk-container-id-1 div.sk-parallel {display: flex;align-items: stretch;justify-content: center;background-color: white;position: relative;}#sk-container-id-1 div.sk-item::before, #sk-container-id-1 div.sk-parallel-item::before {content: \"\";position: absolute;border-left: 1px solid gray;box-sizing: border-box;top: 0;bottom: 0;left: 50%;z-index: -1;}#sk-container-id-1 div.sk-parallel-item {display: flex;flex-direction: column;z-index: 1;position: relative;background-color: white;}#sk-container-id-1 div.sk-parallel-item:first-child::after {align-self: flex-end;width: 50%;}#sk-container-id-1 div.sk-parallel-item:last-child::after {align-self: flex-start;width: 50%;}#sk-container-id-1 div.sk-parallel-item:only-child::after {width: 0;}#sk-container-id-1 div.sk-dashed-wrapped {border: 1px dashed gray;margin: 0 0.4em 0.5em 0.4em;box-sizing: border-box;padding-bottom: 0.4em;background-color: white;}#sk-container-id-1 div.sk-label label {font-family: monospace;font-weight: bold;display: inline-block;line-height: 1.2em;}#sk-container-id-1 div.sk-label-container {text-align: center;}#sk-container-id-1 div.sk-container {/* jupyter's `normalize.less` sets `[hidden] { display: none; }` but bootstrap.min.css set `[hidden] { display: none !important; }` so we also need the `!important` here to be able to override the default hidden behavior on the sphinx rendered scikit-learn.org. See: https://github.com/scikit-learn/scikit-learn/issues/21755 */display: inline-block !important;position: relative;}#sk-container-id-1 div.sk-text-repr-fallback {display: none;}</style><div id=\"sk-container-id-1\" class=\"sk-top-container\"><div class=\"sk-text-repr-fallback\"><pre>RandomForestRegressor(n_jobs=-1)</pre><b>In a Jupyter environment, please rerun this cell to show the HTML representation or trust the notebook. <br />On GitHub, the HTML representation is unable to render, please try loading this page with nbviewer.org.</b></div><div class=\"sk-container\" hidden><div class=\"sk-item\"><div class=\"sk-estimator sk-toggleable\"><input class=\"sk-toggleable__control sk-hidden--visually\" id=\"sk-estimator-id-1\" type=\"checkbox\" checked><label for=\"sk-estimator-id-1\" class=\"sk-toggleable__label sk-toggleable__label-arrow\">RandomForestRegressor</label><div class=\"sk-toggleable__content\"><pre>RandomForestRegressor(n_jobs=-1)</pre></div></div></div></div></div>"
            ]
          },
          "metadata": {},
          "execution_count": 23
        }
      ]
    },
    {
      "cell_type": "markdown",
      "source": [
        "### 3.4 - Evaluating"
      ],
      "metadata": {
        "id": "J1Vatmcbqkax"
      }
    },
    {
      "cell_type": "code",
      "source": [
        "m.score(df_test.drop('SalePrice', axis=1), df_test.SalePrice)"
      ],
      "metadata": {
        "id": "5uSmWMxXqnJg",
        "colab": {
          "base_uri": "https://localhost:8080/"
        },
        "outputId": "6c5531cc-b386-461c-815e-03817274a1bd"
      },
      "execution_count": 24,
      "outputs": [
        {
          "output_type": "execute_result",
          "data": {
            "text/plain": [
              "0.9875599980704429"
            ]
          },
          "metadata": {},
          "execution_count": 24
        }
      ]
    },
    {
      "cell_type": "markdown",
      "source": [
        "## Next Steps"
      ],
      "metadata": {
        "id": "onK1azttPwhU"
      }
    },
    {
      "cell_type": "markdown",
      "source": [
        "The code above showcased a quick way to train a machine learning model. The data exploration was very minimal and the engineering of the data was quite basic. A better model could be trained if more time and thought was put into these steps as well as others. Why don't you have a go at trying to improe the model performance value above by re-working this code. Here are some hints of things to do:\n",
        "\n",
        "1. Are there any errors in the data that could be corrected or filtered? Take a look a bit more at the features and their unique levels.\n",
        "2. Are any of the features highly correlated? Could some of these be dropped from the training data?\n",
        "3. Are there other ways we can convert the object features to numerical features? How do these affect the model's performance?\n",
        "4. Can we handle missing data better? Can more information be pulled out from the missing data?\n",
        "5. Can more information be pulled out for the datetime fields? How do these extra features fair in a feature importance plot?\n",
        "6. The model chosen is a random forest but others will do the job. Try out another model and see which is the champion.\n",
        "7. Are there other performance metrics that you can assess the model's performance on?\n",
        "8. Look into the model's hyperparameters. Learning what the main ones are. Can these be improved in any way?\n",
        "9. What model explainability metrics and charts can you create that help tell the model's performance story? e.g. lift plots.\n",
        "10. Can you create your own notebook on this work and share it with others? Where would you host it? GitHub? Kaggle? Medium?"
      ],
      "metadata": {
        "id": "onwpZOeLP0lD"
      }
    },
    {
      "cell_type": "code",
      "source": [],
      "metadata": {
        "id": "XNAQJfq2Pz0j"
      },
      "execution_count": null,
      "outputs": []
    }
  ]
}